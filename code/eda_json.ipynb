{
 "cells": [
  {
   "cell_type": "code",
   "execution_count": 34,
   "metadata": {},
   "outputs": [],
   "source": [
    "import json\n",
    "import numpy as np\n",
    "import pandas as pd\n",
    "import os\n",
    "import glob\n",
    "import shutil\n",
    "from tqdm import tqdm"
   ]
  },
  {
   "cell_type": "code",
   "execution_count": 110,
   "metadata": {},
   "outputs": [],
   "source": [
    "json_open = open('../data/jsons/025b8a9f86d048aeb4fb008f48395920.json', 'r')\n",
    "json_load = json.load(json_open)"
   ]
  },
  {
   "cell_type": "code",
   "execution_count": 49,
   "metadata": {},
   "outputs": [
    {
     "data": {
      "text/html": [
       "<div>\n",
       "<style scoped>\n",
       "    .dataframe tbody tr th:only-of-type {\n",
       "        vertical-align: middle;\n",
       "    }\n",
       "\n",
       "    .dataframe tbody tr th {\n",
       "        vertical-align: top;\n",
       "    }\n",
       "\n",
       "    .dataframe thead th {\n",
       "        text-align: right;\n",
       "    }\n",
       "</style>\n",
       "<table border=\"1\" class=\"dataframe\">\n",
       "  <thead>\n",
       "    <tr style=\"text-align: right;\">\n",
       "      <th></th>\n",
       "      <th>所見</th>\n",
       "      <th>key</th>\n",
       "      <th>肺</th>\n",
       "      <th>心</th>\n",
       "      <th>肝</th>\n",
       "      <th>胆</th>\n",
       "      <th>膵</th>\n",
       "      <th>脾</th>\n",
       "      <th>副腎</th>\n",
       "    </tr>\n",
       "    <tr>\n",
       "      <th>key</th>\n",
       "      <th></th>\n",
       "      <th></th>\n",
       "      <th></th>\n",
       "      <th></th>\n",
       "      <th></th>\n",
       "      <th></th>\n",
       "      <th></th>\n",
       "      <th></th>\n",
       "      <th></th>\n",
       "    </tr>\n",
       "  </thead>\n",
       "  <tbody>\n",
       "    <tr>\n",
       "      <th>0b6018fa2c09459c9f9bd2e355170151</th>\n",
       "      <td>胸部CT　前回（2022/08/08）と比較しています。\\n\\n右胸腔内ドレーンあり。\\n右...</td>\n",
       "      <td>0b6018fa2c09459c9f9bd2e355170151</td>\n",
       "      <td>0</td>\n",
       "      <td>0</td>\n",
       "      <td>0</td>\n",
       "      <td>0</td>\n",
       "      <td>0</td>\n",
       "      <td>0</td>\n",
       "      <td>0</td>\n",
       "    </tr>\n",
       "    <tr>\n",
       "      <th>123ed433de104b44ad97da1dc55c827a</th>\n",
       "      <td>頭部CT　前回(2022.7.28)\\n\\n�@後頭蓋窩、斜台背側の髄膜腫摘出術後。\\n　前...</td>\n",
       "      <td>123ed433de104b44ad97da1dc55c827a</td>\n",
       "      <td>0</td>\n",
       "      <td>0</td>\n",
       "      <td>0</td>\n",
       "      <td>0</td>\n",
       "      <td>0</td>\n",
       "      <td>0</td>\n",
       "      <td>0</td>\n",
       "    </tr>\n",
       "    <tr>\n",
       "      <th>287de97ae7804325a702b23081f34119</th>\n",
       "      <td>肺野に活動性の炎症や明らかな腫瘤影を認めません。\\n縦隔に有意なリンパ節腫大なし。\\n胸水な...</td>\n",
       "      <td>287de97ae7804325a702b23081f34119</td>\n",
       "      <td>0</td>\n",
       "      <td>0</td>\n",
       "      <td>0</td>\n",
       "      <td>0</td>\n",
       "      <td>0</td>\n",
       "      <td>0</td>\n",
       "      <td>0</td>\n",
       "    </tr>\n",
       "    <tr>\n",
       "      <th>c086b605c69e4c90a5fa9884521fb72e</th>\n",
       "      <td>下部胸椎・腰椎部MRI　比較画像なし。\\n�@下部胸椎から第1腰椎後方固定術後。\\n　固定具...</td>\n",
       "      <td>c086b605c69e4c90a5fa9884521fb72e</td>\n",
       "      <td>0</td>\n",
       "      <td>0</td>\n",
       "      <td>0</td>\n",
       "      <td>0</td>\n",
       "      <td>0</td>\n",
       "      <td>0</td>\n",
       "      <td>0</td>\n",
       "    </tr>\n",
       "    <tr>\n",
       "      <th>3667ef3e7ef54660963d12c7767e9484</th>\n",
       "      <td>・下腹部正中でwhirl サインを認め（図１紫○）、同部位でS状結腸は狭窄（図2→）。S状結...</td>\n",
       "      <td>3667ef3e7ef54660963d12c7767e9484</td>\n",
       "      <td>0</td>\n",
       "      <td>0</td>\n",
       "      <td>0</td>\n",
       "      <td>0</td>\n",
       "      <td>0</td>\n",
       "      <td>0</td>\n",
       "      <td>0</td>\n",
       "    </tr>\n",
       "  </tbody>\n",
       "</table>\n",
       "</div>"
      ],
      "text/plain": [
       "                                                                                 所見  \\\n",
       "key                                                                                   \n",
       "0b6018fa2c09459c9f9bd2e355170151  胸部CT　前回（2022/08/08）と比較しています。\\n\\n右胸腔内ドレーンあり。\\n右...   \n",
       "123ed433de104b44ad97da1dc55c827a  頭部CT　前回(2022.7.28)\\n\\n�@後頭蓋窩、斜台背側の髄膜腫摘出術後。\\n　前...   \n",
       "287de97ae7804325a702b23081f34119  肺野に活動性の炎症や明らかな腫瘤影を認めません。\\n縦隔に有意なリンパ節腫大なし。\\n胸水な...   \n",
       "c086b605c69e4c90a5fa9884521fb72e  下部胸椎・腰椎部MRI　比較画像なし。\\n�@下部胸椎から第1腰椎後方固定術後。\\n　固定具...   \n",
       "3667ef3e7ef54660963d12c7767e9484  ・下腹部正中でwhirl サインを認め（図１紫○）、同部位でS状結腸は狭窄（図2→）。S状結...   \n",
       "\n",
       "                                                               key  肺  心  肝  \\\n",
       "key                                                                           \n",
       "0b6018fa2c09459c9f9bd2e355170151  0b6018fa2c09459c9f9bd2e355170151  0  0  0   \n",
       "123ed433de104b44ad97da1dc55c827a  123ed433de104b44ad97da1dc55c827a  0  0  0   \n",
       "287de97ae7804325a702b23081f34119  287de97ae7804325a702b23081f34119  0  0  0   \n",
       "c086b605c69e4c90a5fa9884521fb72e  c086b605c69e4c90a5fa9884521fb72e  0  0  0   \n",
       "3667ef3e7ef54660963d12c7767e9484  3667ef3e7ef54660963d12c7767e9484  0  0  0   \n",
       "\n",
       "                                  胆  膵  脾  副腎  \n",
       "key                                            \n",
       "0b6018fa2c09459c9f9bd2e355170151  0  0  0   0  \n",
       "123ed433de104b44ad97da1dc55c827a  0  0  0   0  \n",
       "287de97ae7804325a702b23081f34119  0  0  0   0  \n",
       "c086b605c69e4c90a5fa9884521fb72e  0  0  0   0  \n",
       "3667ef3e7ef54660963d12c7767e9484  0  0  0   0  "
      ]
     },
     "execution_count": 49,
     "metadata": {},
     "output_type": "execute_result"
    }
   ],
   "source": [
    "df = pd.read_excel('../data/20220811-18satou_with_key.xlsx')\n",
    "df[['肺','心','肝','胆','膵','脾','副腎']] = 0\n",
    "df = df.set_index('key',drop=False)\n",
    "df.head()"
   ]
  },
  {
   "cell_type": "code",
   "execution_count": 79,
   "metadata": {},
   "outputs": [
    {
     "data": {
      "text/plain": [
       "'《胸部造影CT》\\n前回(2022/4/19)と比較。\\n肺野に転移や活動性病変を疑う所見なし。\\n右肺上葉の嚢胞に変化なし。\\n\\n腫大リンパ節なし。\\n胸水なし。\\n\\n冠動脈石灰化に変化なし。\\n心拡大なし。\\n\\n右鎖骨下静脈よりCポート留置後。\\n\\n右第6肋骨他の骨硬化像に変化なし。'"
      ]
     },
     "execution_count": 79,
     "metadata": {},
     "output_type": "execute_result"
    }
   ],
   "source": [
    "df.loc['0013490f09424d909e560d1c01cc4402','所見']"
   ]
  },
  {
   "cell_type": "code",
   "execution_count": 102,
   "metadata": {},
   "outputs": [
    {
     "data": {
      "text/plain": [
       "'胸部CT\\u3000前回（2022/08/08）と比較しています。\\n\\n右胸腔内ドレーンあり。\\n右胸腔内に軽度のairあり。\\n両側胸水あり。左胸水は前回と比べ軽度増加。\\n\\n右中下葉に均等影を認め、内部に気管支の拡張や嚢胞性陰影を認めます。前回と比べ、均等影は軽度軽減しています。肺炎＋肺化膿症の経過を疑います。\\n左肺上葉優位のすりガラス影、粒状影は前回と比べ改善傾向、舌区の嚢胞は前回と同様です。肺炎経過を疑います。\\n両肺に軽度の小葉間隔壁肥厚あり。肺水腫の可能性はあります。\\n有意サイズの腫大リンパ節はありません。\\n心嚢液貯留あり。前回と比べ増加。\\n\\n気管切開チューブあり。。\\nNGチューブあり。\\n右内頚静脈からCVカテーテル留置。先端はSVC。'"
      ]
     },
     "execution_count": 102,
     "metadata": {},
     "output_type": "execute_result"
    }
   ],
   "source": [
    "df.iloc[0,0]"
   ]
  },
  {
   "cell_type": "code",
   "execution_count": 119,
   "metadata": {},
   "outputs": [
    {
     "data": {
      "text/plain": [
       "{'clinical_object': {'name': 'Imaging_observation',\n",
       "  'tokens': ['壁', '肥厚'],\n",
       "  'mention': None,\n",
       "  'start_idx': 20,\n",
       "  'end_idx': 21,\n",
       "  'sui': None,\n",
       "  'certainty_scale': 4},\n",
       " 'modifiers': [{'name': 'Anatomical_entity',\n",
       "   'tokens': ['胃', '体', '部', '大', '弯', '側'],\n",
       "   'mention': None,\n",
       "   'start_idx': 10,\n",
       "   'end_idx': 15,\n",
       "   'sui': None,\n",
       "   'certainty_scale': None},\n",
       "  {'name': 'Characteristics_descriptor',\n",
       "   'tokens': ['びまん', '性'],\n",
       "   'mention': None,\n",
       "   'start_idx': 18,\n",
       "   'end_idx': 19,\n",
       "   'sui': None,\n",
       "   'certainty_scale': None},\n",
       "  {'name': 'Change_descriptor',\n",
       "   'tokens': ['わずか', 'に', '改善', 'ある', 'か'],\n",
       "   'mention': None,\n",
       "   'start_idx': 23,\n",
       "   'end_idx': 27,\n",
       "   'sui': None,\n",
       "   'certainty_scale': None}]}"
      ]
     },
     "execution_count": 119,
     "metadata": {},
     "output_type": "execute_result"
    }
   ],
   "source": [
    "json_load[0]"
   ]
  },
  {
   "cell_type": "code",
   "execution_count": 132,
   "metadata": {},
   "outputs": [
    {
     "name": "stderr",
     "output_type": "stream",
     "text": [
      "100%|██████████| 6636/6636 [00:00<00:00, 13529.61it/s]"
     ]
    },
    {
     "name": "stdout",
     "output_type": "stream",
     "text": [
      "255 肝\n"
     ]
    },
    {
     "name": "stderr",
     "output_type": "stream",
     "text": [
      "\n"
     ]
    }
   ],
   "source": [
    "json_lists = sorted(glob.glob('../data/jsons/*.json'))\n",
    "organs = ['肝']#'心','肝','胆','膵','脾','副腎']\n",
    "os.makedirs('../output',exist_ok=True)\n",
    "counter = 0\n",
    "\n",
    "def search_anatomy(modifiers,organ):\n",
    "    for i in range(len(modifiers)):\n",
    "        modifier = modifiers[i]\n",
    "        if organ in modifier['tokens'] and modifier['name'] == 'Anatomical_entity':\n",
    "            return True\n",
    "    return False\n",
    "\n",
    "def search_change(modifiers):\n",
    "    for i in range(len(modifiers)):\n",
    "        modifier = modifiers[i]\n",
    "        if modifier['name'] == 'Change_descriptor':\n",
    "            return True,''.join(modifier['tokens'])\n",
    "    return False,0\n",
    "\n",
    "def search_clinicalfinding(modifiers):\n",
    "    for i in range(len(modifiers)):\n",
    "        modifier = modifiers[i]\n",
    "        if modifier['name'] == 'Clinical_finding':\n",
    "            return True,''.join(modifier['tokens'])\n",
    "    return False,0\n",
    "\n",
    "#def detect_change(modifiers):\n",
    "change_word_list = []\n",
    "clinical_word_list = []\n",
    "\n",
    "for json_list in tqdm(json_lists):\n",
    "    json_open = open(json_list,'r')\n",
    "    key = os.path.basename(json_list).split('.')[0]\n",
    "    json_load = json.load(json_open)\n",
    "    for organ in organs:\n",
    "        #print(organ)\n",
    "        for i in range(len(json_load)):\n",
    "            bool_anatomy = search_anatomy(json_load[i]['modifiers'],organ)\n",
    "            bool_change,change = search_change(json_load[i]['modifiers'])\n",
    "            bool_clinical,clinical = search_clinicalfinding(json_load[i]['modifiers'])\n",
    "            if bool_anatomy and bool_change and bool_clinical:\n",
    "                #print(json_list,json_load[i]['modifiers'])\n",
    "                #df.loc[key,organ] = str(json_load[i])\n",
    "                if change not in change_word_list:\n",
    "                    change_word_list.append(change)\n",
    "                if clinical not in clinical_word_list:\n",
    "                    clinical_word_list.append(clinical)\n",
    "                counter += 1\n",
    "            else:\n",
    "                continue\n",
    "\n",
    "print(counter,organ)"
   ]
  },
  {
   "cell_type": "code",
   "execution_count": 134,
   "metadata": {},
   "outputs": [],
   "source": [
    "pd.DataFrame(clinical_word_list).to_csv('clinical_discriptor.csv',index = False)"
   ]
  },
  {
   "cell_type": "code",
   "execution_count": 128,
   "metadata": {},
   "outputs": [],
   "source": [
    "pd.DataFrame(change_word_list).to_csv('change_discriptor.csv',index = False)"
   ]
  },
  {
   "cell_type": "code",
   "execution_count": 64,
   "metadata": {},
   "outputs": [
    {
     "data": {
      "text/plain": [
       "{'clinical_object': {'name': 'Imaging_observation',\n",
       "  'tokens': ['小', '嚢胞'],\n",
       "  'mention': None,\n",
       "  'start_idx': 12,\n",
       "  'end_idx': 13,\n",
       "  'sui': None,\n",
       "  'certainty_scale': 4},\n",
       " 'modifiers': [{'name': 'Anatomical_entity',\n",
       "   'tokens': ['肝'],\n",
       "   'mention': None,\n",
       "   'start_idx': 10,\n",
       "   'end_idx': 10,\n",
       "   'sui': None,\n",
       "   'certainty_scale': None}]}"
      ]
     },
     "execution_count": 64,
     "metadata": {},
     "output_type": "execute_result"
    }
   ],
   "source": [
    "json_load[i]\n"
   ]
  },
  {
   "cell_type": "code",
   "execution_count": 72,
   "metadata": {},
   "outputs": [],
   "source": [
    "df.to_csv('../output/sample.csv')"
   ]
  },
  {
   "cell_type": "code",
   "execution_count": 19,
   "metadata": {},
   "outputs": [],
   "source": [
    "json_open = open('../json_data/response_1660614630854.json', 'r')\n",
    "json_load = json.load(json_open)"
   ]
  },
  {
   "cell_type": "code",
   "execution_count": 20,
   "metadata": {},
   "outputs": [
    {
     "data": {
      "text/plain": [
       "[{'clinical_object': {'name': 'Imaging_observation',\n",
       "   'tokens': ['小', '嚢胞'],\n",
       "   'mention': '小嚢胞',\n",
       "   'start_idx': 7,\n",
       "   'end_idx': 8,\n",
       "   'sui': 'OBJ002760',\n",
       "   'certainty_scale': 4},\n",
       "  'modifiers': [{'name': 'Anatomical_entity',\n",
       "    'tokens': ['肝'],\n",
       "    'mention': '肝',\n",
       "    'start_idx': 0,\n",
       "    'end_idx': 0,\n",
       "    'sui': None,\n",
       "    'certainty_scale': None},\n",
       "   {'name': 'Anatomical_entity',\n",
       "    'tokens': ['S', '７', '／', '８'],\n",
       "    'mention': 'S７／８',\n",
       "    'start_idx': 2,\n",
       "    'end_idx': 5,\n",
       "    'sui': None,\n",
       "    'certainty_scale': None}]},\n",
       " {'clinical_object': {'name': 'Imaging_observation',\n",
       "   'tokens': ['胆石'],\n",
       "   'mention': '胆石',\n",
       "   'start_idx': 20,\n",
       "   'end_idx': 20,\n",
       "   'sui': 'OBJ004923',\n",
       "   'certainty_scale': 4},\n",
       "  'modifiers': [{'name': 'Anatomical_entity',\n",
       "    'tokens': ['胆嚢'],\n",
       "    'mention': '胆嚢',\n",
       "    'start_idx': 18,\n",
       "    'end_idx': 18,\n",
       "    'sui': None,\n",
       "    'certainty_scale': None}]},\n",
       " {'clinical_object': {'name': 'Imaging_observation',\n",
       "   'tokens': ['嚢胞'],\n",
       "   'mention': '嚢胞',\n",
       "   'start_idx': 48,\n",
       "   'end_idx': 48,\n",
       "   'sui': 'OBJ002511',\n",
       "   'certainty_scale': 4},\n",
       "  'modifiers': [{'name': 'Anatomical_entity',\n",
       "    'tokens': ['腎'],\n",
       "    'mention': '腎',\n",
       "    'start_idx': 43,\n",
       "    'end_idx': 43,\n",
       "    'sui': None,\n",
       "    'certainty_scale': None},\n",
       "   {'name': 'Anatomical_entity',\n",
       "    'tokens': ['両', '腎'],\n",
       "    'mention': '両腎',\n",
       "    'start_idx': 45,\n",
       "    'end_idx': 46,\n",
       "    'sui': None,\n",
       "    'certainty_scale': None}]}]"
      ]
     },
     "execution_count": 20,
     "metadata": {},
     "output_type": "execute_result"
    }
   ],
   "source": [
    "json_load"
   ]
  },
  {
   "cell_type": "code",
   "execution_count": null,
   "metadata": {},
   "outputs": [],
   "source": []
  }
 ],
 "metadata": {
  "interpreter": {
   "hash": "c4d9aa521262795601c1104d79ebf89681e8773cac68a8dc9ec32a93aa2698b0"
  },
  "kernelspec": {
   "display_name": "Python 3.8.13 ('monai')",
   "language": "python",
   "name": "python3"
  },
  "language_info": {
   "codemirror_mode": {
    "name": "ipython",
    "version": 3
   },
   "file_extension": ".py",
   "mimetype": "text/x-python",
   "name": "python",
   "nbconvert_exporter": "python",
   "pygments_lexer": "ipython3",
   "version": "3.8.13"
  },
  "orig_nbformat": 4
 },
 "nbformat": 4,
 "nbformat_minor": 2
}
