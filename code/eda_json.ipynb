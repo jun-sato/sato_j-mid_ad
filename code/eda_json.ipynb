{
 "cells": [
  {
   "cell_type": "code",
   "execution_count": 2,
   "metadata": {},
   "outputs": [],
   "source": [
    "import json\n",
    "import numpy as np\n",
    "import pandas as pd\n",
    "import os\n",
    "import glob\n",
    "import shutil"
   ]
  },
  {
   "cell_type": "code",
   "execution_count": 3,
   "metadata": {},
   "outputs": [],
   "source": [
    "json_open = open('../json_data/response_1660607286931.json', 'r')\n",
    "json_load = json.load(json_open)"
   ]
  },
  {
   "cell_type": "code",
   "execution_count": 18,
   "metadata": {},
   "outputs": [
    {
     "data": {
      "text/plain": [
       "[{'clinical_object': {'name': 'Imaging_observation',\n",
       "   'tokens': ['結節'],\n",
       "   'mention': '結節',\n",
       "   'start_idx': 10,\n",
       "   'end_idx': 10,\n",
       "   'sui': 'OBJ004402',\n",
       "   'certainty_scale': 4},\n",
       "  'modifiers': [{'name': 'Anatomical_entity',\n",
       "    'tokens': ['右', '肺', '野'],\n",
       "    'mention': '右肺野',\n",
       "    'start_idx': 0,\n",
       "    'end_idx': 2,\n",
       "    'sui': None,\n",
       "    'certainty_scale': None},\n",
       "   {'name': 'Size_descriptor',\n",
       "    'tokens': ['３', 'cm', '大'],\n",
       "    'mention': '３cm大',\n",
       "    'start_idx': 4,\n",
       "    'end_idx': 6,\n",
       "    'sui': None,\n",
       "    'certainty_scale': None},\n",
       "   {'name': 'Characteristics_descriptor',\n",
       "    'tokens': ['不整', 'な'],\n",
       "    'mention': '不整な',\n",
       "    'start_idx': 8,\n",
       "    'end_idx': 9,\n",
       "    'sui': None,\n",
       "    'certainty_scale': None},\n",
       "   {'name': 'Change_descriptor',\n",
       "    'tokens': ['前回', 'より', '増大', 'し', 'て', 'いる'],\n",
       "    'mention': '前回より増大している',\n",
       "    'start_idx': 15,\n",
       "    'end_idx': 20,\n",
       "    'sui': 'CHG018603',\n",
       "    'certainty_scale': None},\n",
       "   {'name': 'Clinical_finding',\n",
       "    'tokens': ['肺癌'],\n",
       "    'mention': '肺癌',\n",
       "    'start_idx': 22,\n",
       "    'end_idx': 22,\n",
       "    'sui': 'OBJ004720',\n",
       "    'certainty_scale': 4}]},\n",
       " {'clinical_object': {'name': 'Clinical_finding',\n",
       "   'tokens': ['肺癌'],\n",
       "   'mention': '肺癌',\n",
       "   'start_idx': 22,\n",
       "   'end_idx': 22,\n",
       "   'sui': 'OBJ004720',\n",
       "   'certainty_scale': 4},\n",
       "  'modifiers': [{'name': 'Anatomical_entity',\n",
       "    'tokens': ['右', '肺', '野'],\n",
       "    'mention': '右肺野',\n",
       "    'start_idx': 0,\n",
       "    'end_idx': 2,\n",
       "    'sui': None,\n",
       "    'certainty_scale': None}]}]"
      ]
     },
     "execution_count": 18,
     "metadata": {},
     "output_type": "execute_result"
    }
   ],
   "source": [
    "json_load"
   ]
  },
  {
   "cell_type": "code",
   "execution_count": 19,
   "metadata": {},
   "outputs": [],
   "source": [
    "json_open = open('../json_data/response_1660614630854.json', 'r')\n",
    "json_load = json.load(json_open)"
   ]
  },
  {
   "cell_type": "code",
   "execution_count": 20,
   "metadata": {},
   "outputs": [
    {
     "data": {
      "text/plain": [
       "[{'clinical_object': {'name': 'Imaging_observation',\n",
       "   'tokens': ['小', '嚢胞'],\n",
       "   'mention': '小嚢胞',\n",
       "   'start_idx': 7,\n",
       "   'end_idx': 8,\n",
       "   'sui': 'OBJ002760',\n",
       "   'certainty_scale': 4},\n",
       "  'modifiers': [{'name': 'Anatomical_entity',\n",
       "    'tokens': ['肝'],\n",
       "    'mention': '肝',\n",
       "    'start_idx': 0,\n",
       "    'end_idx': 0,\n",
       "    'sui': None,\n",
       "    'certainty_scale': None},\n",
       "   {'name': 'Anatomical_entity',\n",
       "    'tokens': ['S', '７', '／', '８'],\n",
       "    'mention': 'S７／８',\n",
       "    'start_idx': 2,\n",
       "    'end_idx': 5,\n",
       "    'sui': None,\n",
       "    'certainty_scale': None}]},\n",
       " {'clinical_object': {'name': 'Imaging_observation',\n",
       "   'tokens': ['胆石'],\n",
       "   'mention': '胆石',\n",
       "   'start_idx': 20,\n",
       "   'end_idx': 20,\n",
       "   'sui': 'OBJ004923',\n",
       "   'certainty_scale': 4},\n",
       "  'modifiers': [{'name': 'Anatomical_entity',\n",
       "    'tokens': ['胆嚢'],\n",
       "    'mention': '胆嚢',\n",
       "    'start_idx': 18,\n",
       "    'end_idx': 18,\n",
       "    'sui': None,\n",
       "    'certainty_scale': None}]},\n",
       " {'clinical_object': {'name': 'Imaging_observation',\n",
       "   'tokens': ['嚢胞'],\n",
       "   'mention': '嚢胞',\n",
       "   'start_idx': 48,\n",
       "   'end_idx': 48,\n",
       "   'sui': 'OBJ002511',\n",
       "   'certainty_scale': 4},\n",
       "  'modifiers': [{'name': 'Anatomical_entity',\n",
       "    'tokens': ['腎'],\n",
       "    'mention': '腎',\n",
       "    'start_idx': 43,\n",
       "    'end_idx': 43,\n",
       "    'sui': None,\n",
       "    'certainty_scale': None},\n",
       "   {'name': 'Anatomical_entity',\n",
       "    'tokens': ['両', '腎'],\n",
       "    'mention': '両腎',\n",
       "    'start_idx': 45,\n",
       "    'end_idx': 46,\n",
       "    'sui': None,\n",
       "    'certainty_scale': None}]}]"
      ]
     },
     "execution_count": 20,
     "metadata": {},
     "output_type": "execute_result"
    }
   ],
   "source": [
    "json_load"
   ]
  },
  {
   "cell_type": "code",
   "execution_count": null,
   "metadata": {},
   "outputs": [],
   "source": []
  }
 ],
 "metadata": {
  "interpreter": {
   "hash": "c4d9aa521262795601c1104d79ebf89681e8773cac68a8dc9ec32a93aa2698b0"
  },
  "kernelspec": {
   "display_name": "Python 3.8.13 ('monai')",
   "language": "python",
   "name": "python3"
  },
  "language_info": {
   "codemirror_mode": {
    "name": "ipython",
    "version": 3
   },
   "file_extension": ".py",
   "mimetype": "text/x-python",
   "name": "python",
   "nbconvert_exporter": "python",
   "pygments_lexer": "ipython3",
   "version": "3.8.13"
  },
  "orig_nbformat": 4
 },
 "nbformat": 4,
 "nbformat_minor": 2
}
