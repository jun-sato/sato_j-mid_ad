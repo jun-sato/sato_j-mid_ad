{
 "cells": [
  {
   "cell_type": "code",
   "execution_count": 64,
   "metadata": {},
   "outputs": [],
   "source": [
    "import json\n",
    "import numpy as np\n",
    "import pandas as pd\n",
    "import os\n",
    "import glob\n",
    "import shutil\n",
    "from tqdm import tqdm\n",
    "#import japanize_matplotlib\n",
    "import matplotlib.pyplot as plt\n",
    "#%matplotlib inline\n",
    "#%config InlineBackend.figure_format = 'retina'\n",
    "#from sciplotlib import style as spstyle\n",
    "import seaborn as sns\n",
    "from sklearn.model_selection import train_test_split,StratifiedGroupKFold\n",
    "\n",
    "def search_object(sentence,organ):\n",
    "    ##構造化文章単位を入力として、特定臓器の情報が入っているかを調べる。\n",
    "    ##入力 sentence\n",
    "    ##出力  IO+AEのtoken,IO token,AE token,IOのcertainty_score,IOのtype\n",
    "    img_obs = sentence['clinical_object']\n",
    "    mdfs = sentence['modifiers']\n",
    "    ae_tokens = []\n",
    "\n",
    "    for i in range(len(mdfs)):\n",
    "        mdf = mdfs[i]\n",
    "        if mdf['type'] == 'Anatomical_entity':\n",
    "            ae_tokens += mdf['tokens']\n",
    "    \n",
    "    keywords = ae_tokens+img_obs['tokens']\n",
    "    #print(keywords)\n",
    "    if organ in keywords:\n",
    "        keywords = ''.join(ae_tokens+img_obs['tokens'])\n",
    "        io_tokens = ''.join(img_obs['tokens'])\n",
    "        ae_tokens = ''.join(ae_tokens)\n",
    "        return keywords,io_tokens,ae_tokens,img_obs['certainty_score'],img_obs['type']\n",
    "    else:\n",
    "        return None,None,None,None,None\n",
    "def search_clinicalfinding(modifiers):\n",
    "    ##clinical_descriptor clinical_discriptorが文中に含まれているかを判別\n",
    "    ##入力 modifiers\n",
    "    ##出力  含まれるかどうかbool,clinicalと判断されたwords(なければ0を入れる。)\n",
    "    for i in range(len(modifiers)):\n",
    "        modifier = modifiers[i]\n",
    "        if modifier['type'] == 'Clinical_finding':\n",
    "            return modifier['certainty_score'],''.join(modifier['tokens'])\n",
    "        else:continue\n",
    "    return None,'not_found'\n",
    "def to_multi_label(df,abnormal_list):\n",
    "    for abnormal_label in abnormal_list:\n",
    "        df[abnormal_label] = df['label'].apply(lambda x: abnormal_label in x).astype(int)\n",
    "    df['nofinding'] = df[abnormal_list].sum(axis=1) == 0\n",
    "    return df"
   ]
  },
  {
   "cell_type": "code",
   "execution_count": 98,
   "metadata": {},
   "outputs": [],
   "source": [
    "###全体のラベル作成\n",
    "###observationは絶対に文中にあるという前提。\n",
    "###\n",
    "\n",
    "df = pd.read_pickle('../server_data/all_data_20211001-20220605.zip').drop_duplicates(subset='jmid_name').reset_index(drop=True)\n",
    "\n",
    "organs = ['心','肝','胆','膵','脾','副腎','腎']\n",
    "os.makedirs('../output',exist_ok=True)\n",
    "counter = 0\n",
    "jmid_names = df['jmid_name']\n",
    "json_lists = df['FINDING_JSON']\n",
    "#def detect_change(modifiers):\n",
    "change_word_list = []\n",
    "clinical_word_list = []\n",
    "data = []\n",
    "counter = 0\n",
    "for jmid_name,json_load in zip(jmid_names,json_lists):\n",
    "    for organ in organs:\n",
    "        #print(organ)\n",
    "        for i in range(len(json_load)):\n",
    "            all_keyword,io_keyword,ae_keyword,certainty,img_type = search_object(json_load[i],organ)\n",
    "            clinical_scale,clinical_word = search_clinicalfinding(json_load[i]['modifiers'])\n",
    "\n",
    "            \n",
    "            if all_keyword is not None:\n",
    "                counter+=1\n",
    "                data.append([jmid_name,organ,all_keyword,io_keyword,ae_keyword,certainty,img_type,clinical_word,clinical_scale])\n",
    "            else:\n",
    "                continue\n",
    "\n",
    "data = pd.DataFrame(data,columns=['jmid_name','organ','all_tokens','io_tokens','ae_tokens','obs_certainty','obs_name','clin_findings','clin_certainty'])\n",
    "data['jmid_name'] = data['jmid_name'].apply(lambda x:x.split('/')[-1])"
   ]
  },
  {
   "cell_type": "code",
   "execution_count": 99,
   "metadata": {},
   "outputs": [],
   "source": [
    "data_kidney = data[(data['obs_name'] == 'Imaging_observation') & (data['organ'] == '腎')].reset_index(drop=True)"
   ]
  },
  {
   "cell_type": "code",
   "execution_count": 100,
   "metadata": {},
   "outputs": [
    {
     "name": "stdout",
     "output_type": "stream",
     "text": [
      "['異常', '水腎', '所見', 'リンパ節腫大', '異常所見', '腫瘤', '腎腫瘤', '病変', '有意な異常', '腫大リンパ節', '結石', '腹水', '粗大病変', 'mass_lesion', '腎腫大', '事項', '狭窄', '造影不領域', '腫瘤性病変', '造影効果', '腫大', '水腎水尿管', '腎結石', '腫瘤形成', '腫瘤影', '血栓形成', '腎腫瘍', '腫瘍栓', '壁肥厚', '液貯留', '骨破壊像', '前立腺腫大', '萎縮', '腎嚢胞', 'filling_defect', '造影不良', '嚢胞', '造影不良域', 'SOL', '副腎腫瘤', '輪郭不整', '腎動脈瘤', '脂肪成分', '骨硬化性病変', '脂肪濃度', '肥厚', '像', 'beak_sign', '閉塞機転', '副腎腫大', '尿排泄', '動脈瘤', '血腫', '尿管拡張', '尿管結石', '副腎腫瘍', '腎排泄', '拡張', '有意なリンパ節', '脂肪織濃度上昇', '造影低下', '腎損傷', '実質腫瘤', '早期濃染', '腎内腫瘤', '腎腫瘤病変', '腎尿管結石', '腎増強不良域', '粗大腫瘤', 'リンパ節腫脹', '腎萎縮', '結節', '脂肪織の混濁', '副路発達水腎', 'リンパ節', '腎静脈腫瘍栓', '異常壁肥厚像', '腎充実性腫瘤', '解離', '事項（-）', '毛羽立ち', '腎洞病変', '菲薄化', '大半', '腹水貯留', '瘤影', '腹水の貯留', '出血性嚢胞', '充実腫瘤', '腫瘍', '拡張像', '濃度上昇', '充実性腫瘤', '濃度上昇+結節', '高濃度域', '胸腹水', '腎機能低下', '異常ガス像', 'LDA', '遅延', '構造', '腎盂拡張', '腸管壁肥厚', '尿路結石', '異常ない異常', 'free_air', '水腎なし傍大動脈リンパ節腫大', '血栓', '結節病変', '異常病変', '異常像', '肥大', '有意なサイズの腫脹', '造影欠損像', '線不透過性結石', '有意な萎縮', '変形', '脂肪濃度上昇の進展', '有意なサイズ', '腹水増加水腎', '腎動静脈瘻', 'ただちに異常', '屈曲', '捻れ', '占拠性病変', '水腎症', '腎盂', '出血', '腎病変', '腎腫瘤形成', '腎SOL', '腫瘤（-）肝', 'mass', '器質的病変', '脂肪織濃度の上昇', '石灰化', '動脈硬化', '有意サイズ']\n"
     ]
    }
   ],
   "source": [
    "print([i for i in data_kidney[data_kidney['obs_certainty'] == 0]['io_tokens'].value_counts().index])"
   ]
  },
  {
   "cell_type": "code",
   "execution_count": 101,
   "metadata": {},
   "outputs": [
    {
     "name": "stdout",
     "output_type": "stream",
     "text": [
      "['腎嚢胞', '結石', '嚢胞', '小嚢胞', '萎縮', '腎萎縮', '腎結石', '腫瘤', '変形', '石灰化', '拡張', '腫大', '結節', '小結石', '水腎', 'シャント', '水腎症', '腎のう胞', '造影効果', '造影不良域', '早期濃染', '軟部影', '微小結石', 'complicated_cyst', '腎盂嚢胞', '小結節', '毛羽立ち', '腎腫大', '脂肪織混濁', 'LDA', '脂肪織濃度上昇', '子宮筋腫', '病変', '微小嚢胞', '動脈瘤', 'リンパ節', '馬蹄腎', '解離', '造影不領域', '凍結域', '像', 'SOL', '腹水', '腎動脈瘤', '狭窄', '移植腎', '腎瘢痕', '瘤状拡張', '壁肥厚', '小リンパ節', '水腎水尿管', '腎腫瘤', '筋腫', '菲薄化', '発達', 'washout', '脂肪成分', '液貯留', '液体貯留', '脂肪', '結腸憩室', '結節影', '高吸収域', '低吸収域', '腫瘤影', '高吸収', '傍腎盂嚢胞', '濃染', '脂肪腫', '血腫', '嚢胞腎', '腹部大動脈瘤', '嚢胞性病変', '脾腎シャント', 'シャント発達', '腫瘤性病変', '脂肪濃度', '血管筋脂肪腫', '壁在血栓', '腎シャント', '大腸憩室', '狭小化', 'AML', '肥厚', '傍腎盂のう胞', '腫大リンパ節', '前立腺腫大', 'air', '出血性嚢胞', '脾腫', '萎縮瘢痕像', 'wash_out', '出血性', 'リンパ節腫大', '圧排', '小石灰化', '毛羽立ち像', '瘤', '血栓', '増強不良域', '低濃度域', '腎下部大動脈瘤', '腎病変', '腎高度萎縮', '腎部分萎縮', '脂肪濃度の結節', '軟部腫瘤', '腎complicated_cyst', '微小石灰化', '造影効果低下', '構造', '造影パターン', '胆石', '造影不良', '脂肪肝', '造影効果低下域', '混濁', '複雑嚢胞', '腎盂拡張', 'リピオドール残存', '腎下部腹部大動脈瘤', '瘢痕影', '嚢胞性腫瘤', '腎回転異常', '腹膜／腹壁結節', '腹水貯留', '軟部陰影', '軟部組織陰影', '脂肪織濃度が上昇', '高吸収嚢胞', '小腎嚢胞', '分岐しています', '洗い出し', '起始しています', 'サンゴ状石灰化', '造影不良なSOL', '遠肝性側副血行路発達', '血栓化', '開存', '嚢状動脈瘤', '脂肪織濃度の上昇', '所見', '副路', 'mass', '大動脈瘤', '隔壁', '嚢状瘤', '膀胱壁肥厚', '腎腫瘍', '肝嚢胞', '充実部', '小腫瘤', 'カテーテル', '憩室', '造影効果不良+液体貯留域', '脂肪性結節', '腎石灰化', '腎像', 'AAA', '腎瘻', '食道静脈瘤', '静脈瘤', '腎結節', '血流低下', '腫瘤様病変', 'fluid', '脂肪濃度結節', '腎外への流出', '回転異常', '腎低形成', '紡錘状大動脈瘤', '腹膜肥厚', '拡大', '脂肪性腫瘤', '膀胱結石', 'サンゴ状結石', '閉塞', '胃静脈瘤', '血管奇形', '脂肪織のけ', '被包化液体貯留像', '瘢痕化', 'ステント留置', '結節性病変', '充実性結節', '肝腫瘤', '高吸収結節', '腎瘻チューブ逸脱', '潰瘍形成（PAU', '硬化性変化', 'Complicated_cyst', '尿路', '萎縮性変化', '腎複雑嚢胞', '口径不整', '壁石灰化', '腹壁瘢痕ヘルニア', '低吸収', '尿管', '腎瘻チューブ先端', '瘢痕', '造影パタン', 'Wash_out型', '脂肪濃度主体', '嚢胞状構造', '動脈硬化性', '造影域', '瘢痕萎縮', '_left_renal_vein', '胃壁造影効果', '腫瘍', '嚢胞性陰影', '腹膜結節', '瘢痕変形', '腫瘍栓', '結石ありあり', '腎出血性嚢胞', '形成異常', '腎嚢胞retroaortic_left_renal_vein', '紡錘状瘤', '軟部影内', '高濃度嚢胞', '水腎~水尿管症', '脂肪織混濁像', '陥凹', '拡張進行', '腸管ガス貯留', '造影遅延', 'ガス', '嚢胞壁', '早期濃染し洗い出し', '分岐', '狭窄部', '短絡', '索状影', '尿所見', '造影剤', '重複尿管', '腎短絡', '増生', '造影剤の流出', '拡張像', '尿管拡張', '高濃度結節', 'シャントの発達', '腎膿瘍', '梗塞像', '腎囊胞', '壁在結節', 'ガス像', '高吸収な結節', '血栓化後', 'venous_sac', '腎動脈塞栓部', '水腎（-）', '瘤様拡張', '脂肪織の毛羽立ち', '高濃度', '複雑性嚢胞', '造影効果が低下する領域', '髄質', '腎杯構造', '造影効果が低下', '低吸収結節', '低吸収結節影', '低吸収部分', '微小', '早期濃染像', '造影効果弱い', 'IVC拡張', 'wash_out像', '珊瑚状結石', '胆嚢結石', '小病変', '出血性嚢胞後の変化様の像', '高吸収腫瘤', '遊走腎', '高吸収化', '濃度上昇', '腎血管筋脂肪腫', '腎杯拡張', '乳頭状腫瘍', '大小嚢胞', '解離状構造', '腎嚢胞／傍腎盂嚢胞', '腎実質萎縮', '脂肪濃度上昇', '腎サイズ', '造影欠損', '低吸収化', '萎縮像', '瘢痕状の変化', '形態変化', '造影遅延域', '紡錘状動脈瘤', '造影効果は少し低下', '染まり', '引き攣れ', '嚢胞変性', '壁構造', '脂肪濃度混濁', '嚢胞成分', '腎盂拡大', '壁', '遅延', '楔状増強不良域', '無機能腎', 'S状結腸憩室', '内部低吸収', '側副路発達', '脂肪織はけ', '腸管拡張', '動脈硬化', '拡張蛇行', '腎杯憩室', '尿管ステント', 'ステント', '腎変形', '腎門病変', '異常', '器質化', '腫瘤像', '分岐解離', '造影低下域', '造影効果不良', '腎嚢胞わずか', '蛇行', '肥大', '腎梗塞部', '腎AML', '腎実質菲薄化', '造影効果が不均一', '嚢早期濃染', '液面形成', '紡錘状拡張', '脂肪織の濃度上昇', '結石TUL後', '腹壁ヘルニア', 'FDG集積', '軟部濃度結節', '副脾', '萎縮変形', '前立腺肥大', '副腎結節', 'kinking', '内部吸収値が低下', '癒着', '腫瘤様構造', '小瘢痕', '造影効果はまだら', '圧排像', 'bridging_septaの肥厚', '結節状', '粗大病変', '腫瘤形成', '腫瘍成分', '石灰化動脈瘤', '結石破砕後', '造影効果やや不良', '被膜下血腫', '骨盤内腫瘍', '造影効果が遅延する領域', '血管影', '小動脈瘤', '高濃度域', '軟部組織像', '腎静脈内腫瘍栓', 'ガス貯留', '骨硬化', '便', '毛羽立ち萎縮', '嚢胞様', '造影効果は不均一', '口径不同', 'クリップ', '脾腎シャント形成', '腎実質', '出血', 'IVCフィルター', '軟部濃度', '膀胱壁', '腸管壁肥厚', '所々増強不良域', '膀胱腫瘍', '低形成', '造影低下', '閉鎖リンパ節', '上昇', '腎実質石灰化', '食道裂孔ヘルニア', '骨折', '小結節状構造', '硬化像', '腎動脈下腹部大動脈瘤', '膀胱憩室', '造影能が低下', '側弯', 'リピオドール集積', '尿路結石', '小結節影', '腎被膜下血腫', '凍結領域', '子宮飲酒', 'ち', '高吸収の血性成分', '萎縮性', '部分萎縮', '充実部分', '軟部濃度腫瘤', '小のう胞', '脂肪織', '内臓脂肪', '腎欠損', '高濃度含む嚢胞', '造影効果の低い領域', '腫瘤状影', 'complicate_cyst', 'HDA', '造影剤の残留', '右内鼠径ヘルニヤ', '人工肛門', '造影欠損像', '腎下部腹部大動脈拡張', '腎動脈壁石灰化', '脂肪濃度腫瘤', '十二指腸傍乳頭憩室', '高濃度なSOL', '膨隆', '腎杯結石', '造影剤の残存', '上極外側病変', '脂肪吸収値', 'シャント増生', '腎複雑性嚢胞', '萎縮瘢痕', '嚢胞性結節', '気腫', '腎傍腔病変', '分枝', '腫瘤状構造', '脂肪濃度域', '金属濃度', '嚢状拡張', '濃度', 'リンパ管腫', '浮腫', '水腎・水尿管', '傍ストーマヘルニア', '結節ないし隔壁', '液体貯留域', '嚢腫', 'WON', '結節状影', '脂肪性', '萎縮or低形成', 'petz', '異常軟部組織', '楔型状の低吸収域', '軟部濃度構造', '髙吸収', '子宮腫瘤', '腎菲薄化', '膵嚢胞', '水腎増悪', '濃度低下', '腎盂結石', '脂肪織濃度', '異常腫瘤', '脂肪織毛羽立ち', '思わす像', '高吸収物質', '腎石灰化症', '高吸収構造', '嚢胞様構造', '突出像', '増強効果は不均一', '水腎の像', '尿管結石', '軟部影増大', '腎盂尿管拡張', 'あ理増す', '脂肪の描出', '粒状影', '高吸収像', '著明高吸収', '腎委縮', '杯結石', '索状陰影', '腎機能低下', '萎縮様', '膜様構造', '被包化壊死', '腎脂肪濃度', '腹水ごく', '薄い隔壁', '吸収値', '線状異物', '高吸収なSOL', '造影剤の排泄／残留', '造影剤排泄', '肪織濃度上昇', '脂肪性の結節', '形態不整', '造影', '高吸収の結節']\n"
     ]
    }
   ],
   "source": [
    "print([i for i in data_kidney[data_kidney['obs_certainty'] != 0]['io_tokens'].value_counts().index])"
   ]
  },
  {
   "cell_type": "code",
   "execution_count": 102,
   "metadata": {},
   "outputs": [],
   "source": [
    "normal_obs_finding_list = ['異常', '水腎', '所見', '異常所見', '腫瘤', '病変', '腎腫瘤', '有意な異常', '結石', '粗大病変', '事項', 'mass_lesion', '腎腫大', '狭窄', '水腎水尿管', '造影不領域', '腫瘤性病変', '腫大', '腎結石', '腫瘤影', '腫瘤形成', '腎腫瘍', '壁肥厚', '造影不良域', '造影不良', '拡張', 'SOL', '輪郭不整', '萎縮', '嚢胞', '腎嚢胞', '像', '脂肪成分', '脂肪濃度', '肥厚', '脂肪織濃度上昇', '腎排泄',  '血腫', '腎内腫瘤', '結節', '腎尿管結石', '造影低下', '腎腫瘤病変', '腎萎縮', '腎損傷', '腎増強不良域', '脂肪織の混濁', '実質腫瘤', '粗大腫瘤', '事項（-）', '有意な萎縮', '腎充実性腫瘤', '菲薄化', '濃度上昇', '出血性嚢胞', '毛羽立ち', '腫瘍', '瘤影', '充実性腫瘤', '拡張像', '充実腫瘤', '腎洞病変', '濃度上昇+結節', '異常ない異常', '水腎症', '腎機能低下', '異常像', 'mass', '変形', '腎盂', 'LDA', '石灰化', '結節病変', '腎病変', 'ただちに異常', '異常病変', '占拠性病変', '腎盂拡張', '出血', '脂肪織濃度の上昇', '線不透過性結石', '高濃度域', '造影欠損像', '器質的病変', '腎腫瘤形成', '腎SOL']"
   ]
  },
  {
   "cell_type": "code",
   "execution_count": 103,
   "metadata": {},
   "outputs": [],
   "source": [
    "abnormal_obs_finding_list =['結石', '腎嚢胞', '嚢胞', '小嚢胞', '萎縮', '腫瘤', '変形', '石灰化', '拡張', '腫大', '結節',\n",
    "                        '腎結石', '造影効果', '造影不良域', '早期濃染', '腎のう胞', '軟部影',  'complicated_cyst', 'サンゴ状石灰化', \n",
    "                        '腎盂嚢胞', 'LDA', '毛羽立ち', '腎萎縮', '微小嚢胞', '凍結域','傍腎盂のう胞','毛羽立ち', '脂肪織混濁','脂肪織濃度上昇' ]\n",
    "##疾患のグループにまとめる。\n",
    "\n",
    "abnormal_obs_finding_id = [0,1,1,1,2,3,2,0,3,2,3,0,3,3,3,1,3,1,0,1,3,3,2,1,3,1,3,3,3,]\n",
    "##グループのまとまりの名前をつける。まとまりごとに文字の包含関係がないようにする。→嚢胞と肝嚢胞というグループを作らない。\n",
    "\n",
    "abnormal_obs_finding_list_renamed = ['結石', '嚢胞', '形態変化','other_abnormality']\n"
   ]
  },
  {
   "cell_type": "markdown",
   "metadata": {},
   "source": [
    "**腎臓は左右があるので処理が特別**"
   ]
  },
  {
   "cell_type": "code",
   "execution_count": 104,
   "metadata": {},
   "outputs": [
    {
     "name": "stdout",
     "output_type": "stream",
     "text": [
      "(38915, 9)\n",
      "nonspecific 7886\n",
      "25728 26884 19146\n"
     ]
    }
   ],
   "source": [
    "##まず、右左(両)の指定があればそれだけ取り出す。\n",
    "##腎のみのtokenでも、certainty=0ならば両方負例として取り出す。\n",
    "##todo:現在「腎」tokenは構造化不良により負例しか取り出していない。正例も取り出せるようにしたい。\n",
    "print(data_kidney.shape)\n",
    "normal_and_nonspecified_anatomy = (data_kidney['obs_certainty'] == 0)#data_kidney['ae_tokens'].apply(lambda x:x == '') & (data_kidney['obs_certainty'] == 0)\n",
    "print('nonspecific',normal_and_nonspecified_anatomy.sum())\n",
    "data_kidney['left'] = (data_kidney['all_tokens'].str.contains('左腎'))|(data_kidney['all_tokens'].str.contains('両腎'))|normal_and_nonspecified_anatomy\n",
    "data_kidney['right'] = (data_kidney['all_tokens'].str.contains('右腎'))|(data_kidney['all_tokens'].str.contains('両腎'))|normal_and_nonspecified_anatomy\n",
    "print(data_kidney['right'].sum(),data_kidney['left'].sum(),(data_kidney['left']*data_kidney['right']).sum())\n"
   ]
  },
  {
   "cell_type": "code",
   "execution_count": 105,
   "metadata": {},
   "outputs": [
    {
     "data": {
      "text/html": [
       "<div>\n",
       "<style scoped>\n",
       "    .dataframe tbody tr th:only-of-type {\n",
       "        vertical-align: middle;\n",
       "    }\n",
       "\n",
       "    .dataframe tbody tr th {\n",
       "        vertical-align: top;\n",
       "    }\n",
       "\n",
       "    .dataframe thead th {\n",
       "        text-align: right;\n",
       "    }\n",
       "</style>\n",
       "<table border=\"1\" class=\"dataframe\">\n",
       "  <thead>\n",
       "    <tr style=\"text-align: right;\">\n",
       "      <th></th>\n",
       "      <th>jmid_name</th>\n",
       "      <th>organ</th>\n",
       "      <th>all_tokens</th>\n",
       "      <th>io_tokens</th>\n",
       "      <th>ae_tokens</th>\n",
       "      <th>obs_certainty</th>\n",
       "      <th>obs_name</th>\n",
       "      <th>clin_findings</th>\n",
       "      <th>clin_certainty</th>\n",
       "      <th>left</th>\n",
       "      <th>right</th>\n",
       "    </tr>\n",
       "  </thead>\n",
       "  <tbody>\n",
       "    <tr>\n",
       "      <th>0</th>\n",
       "      <td>jmid_0059925_0000.nii.gz</td>\n",
       "      <td>腎</td>\n",
       "      <td>両腎嚢胞</td>\n",
       "      <td>腎嚢胞</td>\n",
       "      <td>両</td>\n",
       "      <td>4</td>\n",
       "      <td>Imaging_observation</td>\n",
       "      <td>not_found</td>\n",
       "      <td>NaN</td>\n",
       "      <td>True</td>\n",
       "      <td>True</td>\n",
       "    </tr>\n",
       "    <tr>\n",
       "      <th>1</th>\n",
       "      <td>jmid_0016814_0000.nii.gz</td>\n",
       "      <td>腎</td>\n",
       "      <td>膵脾腎両腎嚢胞</td>\n",
       "      <td>腎嚢胞</td>\n",
       "      <td>膵脾腎両</td>\n",
       "      <td>4</td>\n",
       "      <td>Imaging_observation</td>\n",
       "      <td>not_found</td>\n",
       "      <td>NaN</td>\n",
       "      <td>True</td>\n",
       "      <td>True</td>\n",
       "    </tr>\n",
       "  </tbody>\n",
       "</table>\n",
       "</div>"
      ],
      "text/plain": [
       "                  jmid_name organ all_tokens io_tokens ae_tokens  \\\n",
       "0  jmid_0059925_0000.nii.gz     腎       両腎嚢胞       腎嚢胞         両   \n",
       "1  jmid_0016814_0000.nii.gz     腎    膵脾腎両腎嚢胞       腎嚢胞      膵脾腎両   \n",
       "\n",
       "   obs_certainty             obs_name clin_findings  clin_certainty  left  \\\n",
       "0              4  Imaging_observation     not_found             NaN  True   \n",
       "1              4  Imaging_observation     not_found             NaN  True   \n",
       "\n",
       "   right  \n",
       "0   True  \n",
       "1   True  "
      ]
     },
     "execution_count": 105,
     "metadata": {},
     "output_type": "execute_result"
    }
   ],
   "source": [
    "data_kidney.head(2)"
   ]
  },
  {
   "cell_type": "code",
   "execution_count": 106,
   "metadata": {},
   "outputs": [
    {
     "name": "stdout",
     "output_type": "stream",
     "text": [
      "(52612, 11)\n"
     ]
    },
    {
     "name": "stderr",
     "output_type": "stream",
     "text": [
      "100%|██████████| 52612/52612 [00:02<00:00, 22185.26it/s]\n"
     ]
    },
    {
     "name": "stdout",
     "output_type": "stream",
     "text": [
      "(52612, 11)\n",
      "(52612, 11)\n"
     ]
    }
   ],
   "source": [
    "## unpivot\n",
    "data_kidney = pd.melt(data_kidney,id_vars=data_kidney.columns.values[:9],var_name='side',value_name='side_value').reset_index(drop=True)\n",
    "data_kidney = data_kidney[data_kidney['side_value'] == True].reset_index(drop=True)\n",
    "print(data_kidney.shape)\n",
    "\n",
    "for i in tqdm(range(len(data_kidney))):\n",
    "    data_kidney.loc[i,'jmid_name'] = data_kidney.loc[i,'jmid_name'].split('.')[0] + data_kidney.loc[i,'side'] +'.nii.gz'\n",
    "print(data_kidney.shape)\n",
    "\n",
    "available_segmentation_list = glob.glob('../data/kidney_seg_img/*.nii.gz') \n",
    "available_segmentation_list = [os.path.basename(p) for p in available_segmentation_list]\n",
    "use_segmentation = data_kidney['jmid_name'].apply(lambda x:x in available_segmentation_list)\n",
    "print(data_kidney.shape)\n",
    "\n",
    "use_normalfindings = (data_kidney['io_tokens'].apply(lambda x:x in normal_obs_finding_list)) & (data_kidney['obs_certainty'] == 0)\n",
    "use_abnormalfindings = (data_kidney['io_tokens'].apply(lambda x:x in abnormal_obs_finding_list)) & (data_kidney['obs_certainty'] != 0)\n",
    "\n",
    "#use_abnormalfindings = (data_kidney['clin_findings'].str.contains('癌') | data_kidney['clin_findings'].str.contains('IPMN'))\n",
    "use_certainty = ((data_kidney['obs_certainty'] == 0) | (data_kidney['obs_certainty'] == 4) )\n",
    "data_kidney['use_training'] = (use_normalfindings|use_abnormalfindings)& use_segmentation \n",
    "\n",
    "data_kidney['label'] = 'not used'\n",
    "data_kidney.loc[use_abnormalfindings,'label'] = data_kidney.loc[use_abnormalfindings,'io_tokens'].apply(lambda x:abnormal_obs_finding_list_renamed[abnormal_obs_finding_id[abnormal_obs_finding_list.index(x)]])\n",
    "data_kidney.loc[use_normalfindings,'label'] = 'nofinding'\n",
    "\n",
    "tmp = data_kidney.groupby('jmid_name')['label'].apply(lambda x: x.tolist())\n",
    "data_kidney.drop('label',axis=1,inplace=True)\n",
    "data_kidney = data_kidney.merge(tmp,how='left',on='jmid_name')\n",
    "\n"
   ]
  },
  {
   "cell_type": "code",
   "execution_count": 107,
   "metadata": {},
   "outputs": [],
   "source": [
    "data_kidney = to_multi_label(data_kidney,abnormal_obs_finding_list_renamed)"
   ]
  },
  {
   "cell_type": "code",
   "execution_count": 108,
   "metadata": {},
   "outputs": [
    {
     "data": {
      "text/html": [
       "<div>\n",
       "<style scoped>\n",
       "    .dataframe tbody tr th:only-of-type {\n",
       "        vertical-align: middle;\n",
       "    }\n",
       "\n",
       "    .dataframe tbody tr th {\n",
       "        vertical-align: top;\n",
       "    }\n",
       "\n",
       "    .dataframe thead th {\n",
       "        text-align: right;\n",
       "    }\n",
       "</style>\n",
       "<table border=\"1\" class=\"dataframe\">\n",
       "  <thead>\n",
       "    <tr style=\"text-align: right;\">\n",
       "      <th></th>\n",
       "      <th>jmid_name</th>\n",
       "      <th>organ</th>\n",
       "      <th>all_tokens</th>\n",
       "      <th>io_tokens</th>\n",
       "      <th>ae_tokens</th>\n",
       "      <th>obs_certainty</th>\n",
       "      <th>obs_name</th>\n",
       "      <th>clin_findings</th>\n",
       "      <th>clin_certainty</th>\n",
       "      <th>side</th>\n",
       "      <th>side_value</th>\n",
       "      <th>use_training</th>\n",
       "      <th>label</th>\n",
       "      <th>結石</th>\n",
       "      <th>嚢胞</th>\n",
       "      <th>形態変化</th>\n",
       "      <th>other_abnormality</th>\n",
       "      <th>nofinding</th>\n",
       "    </tr>\n",
       "  </thead>\n",
       "  <tbody>\n",
       "    <tr>\n",
       "      <th>0</th>\n",
       "      <td>jmid_0059925_0000left.nii.gz</td>\n",
       "      <td>腎</td>\n",
       "      <td>両腎嚢胞</td>\n",
       "      <td>腎嚢胞</td>\n",
       "      <td>両</td>\n",
       "      <td>4</td>\n",
       "      <td>Imaging_observation</td>\n",
       "      <td>not_found</td>\n",
       "      <td>NaN</td>\n",
       "      <td>left</td>\n",
       "      <td>True</td>\n",
       "      <td>True</td>\n",
       "      <td>[嚢胞]</td>\n",
       "      <td>0</td>\n",
       "      <td>1</td>\n",
       "      <td>0</td>\n",
       "      <td>0</td>\n",
       "      <td>False</td>\n",
       "    </tr>\n",
       "    <tr>\n",
       "      <th>1</th>\n",
       "      <td>jmid_0016814_0000left.nii.gz</td>\n",
       "      <td>腎</td>\n",
       "      <td>膵脾腎両腎嚢胞</td>\n",
       "      <td>腎嚢胞</td>\n",
       "      <td>膵脾腎両</td>\n",
       "      <td>4</td>\n",
       "      <td>Imaging_observation</td>\n",
       "      <td>not_found</td>\n",
       "      <td>NaN</td>\n",
       "      <td>left</td>\n",
       "      <td>True</td>\n",
       "      <td>True</td>\n",
       "      <td>[嚢胞]</td>\n",
       "      <td>0</td>\n",
       "      <td>1</td>\n",
       "      <td>0</td>\n",
       "      <td>0</td>\n",
       "      <td>False</td>\n",
       "    </tr>\n",
       "    <tr>\n",
       "      <th>2</th>\n",
       "      <td>jmid_0039412_0000left.nii.gz</td>\n",
       "      <td>腎</td>\n",
       "      <td>左腎嚢胞</td>\n",
       "      <td>腎嚢胞</td>\n",
       "      <td>左</td>\n",
       "      <td>4</td>\n",
       "      <td>Imaging_observation</td>\n",
       "      <td>not_found</td>\n",
       "      <td>NaN</td>\n",
       "      <td>left</td>\n",
       "      <td>True</td>\n",
       "      <td>True</td>\n",
       "      <td>[嚢胞]</td>\n",
       "      <td>0</td>\n",
       "      <td>1</td>\n",
       "      <td>0</td>\n",
       "      <td>0</td>\n",
       "      <td>False</td>\n",
       "    </tr>\n",
       "    <tr>\n",
       "      <th>3</th>\n",
       "      <td>jmid_0038419_0000left.nii.gz</td>\n",
       "      <td>腎</td>\n",
       "      <td>両腎萎縮</td>\n",
       "      <td>腎萎縮</td>\n",
       "      <td>両</td>\n",
       "      <td>4</td>\n",
       "      <td>Imaging_observation</td>\n",
       "      <td>not_found</td>\n",
       "      <td>NaN</td>\n",
       "      <td>left</td>\n",
       "      <td>True</td>\n",
       "      <td>True</td>\n",
       "      <td>[形態変化]</td>\n",
       "      <td>0</td>\n",
       "      <td>0</td>\n",
       "      <td>1</td>\n",
       "      <td>0</td>\n",
       "      <td>False</td>\n",
       "    </tr>\n",
       "    <tr>\n",
       "      <th>4</th>\n",
       "      <td>jmid_0004026_0000left.nii.gz</td>\n",
       "      <td>腎</td>\n",
       "      <td>左腎萎縮</td>\n",
       "      <td>萎縮</td>\n",
       "      <td>左腎</td>\n",
       "      <td>4</td>\n",
       "      <td>Imaging_observation</td>\n",
       "      <td>not_found</td>\n",
       "      <td>NaN</td>\n",
       "      <td>left</td>\n",
       "      <td>True</td>\n",
       "      <td>True</td>\n",
       "      <td>[形態変化]</td>\n",
       "      <td>0</td>\n",
       "      <td>0</td>\n",
       "      <td>1</td>\n",
       "      <td>0</td>\n",
       "      <td>False</td>\n",
       "    </tr>\n",
       "    <tr>\n",
       "      <th>5</th>\n",
       "      <td>jmid_0032726_0000left.nii.gz</td>\n",
       "      <td>腎</td>\n",
       "      <td>左腎嚢胞</td>\n",
       "      <td>腎嚢胞</td>\n",
       "      <td>左</td>\n",
       "      <td>4</td>\n",
       "      <td>Imaging_observation</td>\n",
       "      <td>not_found</td>\n",
       "      <td>NaN</td>\n",
       "      <td>left</td>\n",
       "      <td>True</td>\n",
       "      <td>True</td>\n",
       "      <td>[嚢胞]</td>\n",
       "      <td>0</td>\n",
       "      <td>1</td>\n",
       "      <td>0</td>\n",
       "      <td>0</td>\n",
       "      <td>False</td>\n",
       "    </tr>\n",
       "  </tbody>\n",
       "</table>\n",
       "</div>"
      ],
      "text/plain": [
       "                      jmid_name organ all_tokens io_tokens ae_tokens  \\\n",
       "0  jmid_0059925_0000left.nii.gz     腎       両腎嚢胞       腎嚢胞         両   \n",
       "1  jmid_0016814_0000left.nii.gz     腎    膵脾腎両腎嚢胞       腎嚢胞      膵脾腎両   \n",
       "2  jmid_0039412_0000left.nii.gz     腎       左腎嚢胞       腎嚢胞         左   \n",
       "3  jmid_0038419_0000left.nii.gz     腎       両腎萎縮       腎萎縮         両   \n",
       "4  jmid_0004026_0000left.nii.gz     腎       左腎萎縮        萎縮        左腎   \n",
       "5  jmid_0032726_0000left.nii.gz     腎       左腎嚢胞       腎嚢胞         左   \n",
       "\n",
       "   obs_certainty             obs_name clin_findings  clin_certainty  side  \\\n",
       "0              4  Imaging_observation     not_found             NaN  left   \n",
       "1              4  Imaging_observation     not_found             NaN  left   \n",
       "2              4  Imaging_observation     not_found             NaN  left   \n",
       "3              4  Imaging_observation     not_found             NaN  left   \n",
       "4              4  Imaging_observation     not_found             NaN  left   \n",
       "5              4  Imaging_observation     not_found             NaN  left   \n",
       "\n",
       "   side_value  use_training   label  結石  嚢胞  形態変化  other_abnormality  \\\n",
       "0        True          True    [嚢胞]   0   1     0                  0   \n",
       "1        True          True    [嚢胞]   0   1     0                  0   \n",
       "2        True          True    [嚢胞]   0   1     0                  0   \n",
       "3        True          True  [形態変化]   0   0     1                  0   \n",
       "4        True          True  [形態変化]   0   0     1                  0   \n",
       "5        True          True    [嚢胞]   0   1     0                  0   \n",
       "\n",
       "   nofinding  \n",
       "0      False  \n",
       "1      False  \n",
       "2      False  \n",
       "3      False  \n",
       "4      False  \n",
       "5      False  "
      ]
     },
     "execution_count": 108,
     "metadata": {},
     "output_type": "execute_result"
    }
   ],
   "source": [
    "data_kidney.head(6)"
   ]
  },
  {
   "cell_type": "code",
   "execution_count": 109,
   "metadata": {},
   "outputs": [
    {
     "name": "stdout",
     "output_type": "stream",
     "text": [
      "(52612, 18)\n",
      "after removing duplicates (43998, 18)\n",
      "(38481, 19)\n",
      "(38481, 30)\n"
     ]
    },
    {
     "data": {
      "text/plain": [
       "結石                    4668\n",
       "嚢胞                   23753\n",
       "形態変化                  1853\n",
       "other_abnormality      999\n",
       "nofinding            10321\n",
       "dtype: int64"
      ]
     },
     "execution_count": 109,
     "metadata": {},
     "output_type": "execute_result"
    }
   ],
   "source": [
    "\n",
    "#data_kidney = data_kidney[((data_kidney['obs_certainty'] == 0) & (data_kidney['abnormal'] == 0))|((data_kidney['obs_certainty'] == 4) & (data_kidney['abnormal'] == 1))]\n",
    "#data_kidney = data_kidney[(data_kidney['side_value'])|(data_kidney['obs_certainty'] == 0)]\n",
    "print(data_kidney.shape)\n",
    "data_kidney = data_kidney.drop_duplicates(subset='jmid_name')\n",
    "print('after removing duplicates',data_kidney.shape)\n",
    "\n",
    "\n",
    "data_kidney_use = data_kidney[data_kidney['use_training'] == True].reset_index(drop=True)\n",
    "data_kidney_use['file'] = data_kidney_use['jmid_name']\n",
    "data_kidney_use['jmid_name'] = data_kidney_use['jmid_name'].apply(lambda x:'_'.join(x.split('_')[:-1])+'_0000.nii.gz')\n",
    "\n",
    "print(data_kidney_use.shape)\n",
    "data_kidney_use = data_kidney_use.merge(df,on='jmid_name',how='left')\n",
    "print(data_kidney_use.shape)\n",
    "data_kidney_use[abnormal_obs_finding_list_renamed+['nofinding']].sum(axis=0)"
   ]
  },
  {
   "cell_type": "code",
   "execution_count": null,
   "metadata": {},
   "outputs": [],
   "source": [
    "## cleanなラベルは検証データとして使用する。学習データはそれ以外を使用。\n",
    "clean_df = pd.read_csv('../data/kidney_dataset_test_clean.csv')\n",
    "jmid_files_clean = clean_df['file'].values\n",
    "tmp = data_kidney_use[data_kidney_use['jmid_name'].apply(lambda x:x in jmid_files_clean)]\n",
    "test_groups = tmp['FACILITY_CODE'].astype(str)+tmp['ACCESSION_NUMBER'].astype(str)\n",
    "groups = data_kidney_use['FACILITY_CODE'].astype(str)+data_kidney_use['ACCESSION_NUMBER'].astype(str)\n",
    "\n",
    "\n",
    "df_train = data_kidney_use[groups.apply(lambda x:x not in test_groups.tolist())]\n",
    "df_test =  data_kidney_use[groups.apply(lambda x:x in test_groups.tolist())]\n",
    "\n",
    "\n",
    "columns = ['file','organ','all_tokens','io_tokens','ae_tokens','obs_certainty','FINDING','FINDING_JSON','FACILITY_CODE','ACCESSION_NUMBER']+abnormal_obs_finding_list_renamed+['nofinding']\n",
    "df_train[columns].sort_values(by='file').reset_index(drop=True).to_csv('../data/kidney_dataset_train_multi5.csv',index=False)\n",
    "df_test[columns].sort_values(by='file').reset_index(drop=True).to_csv('../data/kidney_dataset_test_multi5.csv',index=False)"
   ]
  }
 ],
 "metadata": {
  "interpreter": {
   "hash": "916dbcbb3f70747c44a77c7bcd40155683ae19c65e1c03b4aa3499c5328201f1"
  },
  "kernelspec": {
   "display_name": "Python 3.8.10 64-bit",
   "language": "python",
   "name": "python3"
  },
  "language_info": {
   "codemirror_mode": {
    "name": "ipython",
    "version": 3
   },
   "file_extension": ".py",
   "mimetype": "text/x-python",
   "name": "python",
   "nbconvert_exporter": "python",
   "pygments_lexer": "ipython3",
   "version": "3.8.13"
  },
  "orig_nbformat": 4
 },
 "nbformat": 4,
 "nbformat_minor": 2
}
