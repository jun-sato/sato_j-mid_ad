{
 "cells": [
  {
   "cell_type": "code",
   "execution_count": 4,
   "metadata": {},
   "outputs": [],
   "source": [
    "import glob\n",
    "import pandas as pd\n",
    "import numpy as np\n",
    "import matplotlib.pyplot as plt\n",
    "import os, shutil\n",
    "import pydicom\n",
    "from pydicom.data import get_testdata_file, get_testdata_files\n",
    "from pydicom.filereader import read_dicomdir\n",
    "from skimage.draw import polygon\n",
    "import SimpleITK as sitk\n",
    "import sys\n",
    "import scipy.ndimage as ndi\n",
    "from skimage import morphology\n",
    "from scipy import signal"
   ]
  },
  {
   "cell_type": "markdown",
   "metadata": {},
   "source": [
    "## CompAnaモデルで肺をセグメンテーションしたあと、結節をセグメンテーションする。\n"
   ]
  },
  {
   "cell_type": "code",
   "execution_count": 27,
   "metadata": {},
   "outputs": [
    {
     "name": "stdout",
     "output_type": "stream",
     "text": [
      "/mnt/ssd/nnUNet_raw_data_base/nnUNet_raw_data/Task701_AMOS22/imagesTr/amos_0001_0000.nii.gz 768 768 90 0.570312 0.570312 5\n",
      "/mnt/ssd/nnUNet_raw_data_base/nnUNet_raw_data/Task701_AMOS22/imagesTr/amos_0004_0000.nii.gz 512 512 78 0.782 0.782 5\n",
      "/mnt/ssd/nnUNet_raw_data_base/nnUNet_raw_data/Task701_AMOS22/imagesTr/amos_0005_0000.nii.gz 768 768 80 0.56901 0.56901 5\n",
      "/mnt/ssd/nnUNet_raw_data_base/nnUNet_raw_data/Task701_AMOS22/imagesTr/amos_0006_0000.nii.gz 512 512 99 0.835 0.835 5\n",
      "/mnt/ssd/nnUNet_raw_data_base/nnUNet_raw_data/Task701_AMOS22/imagesTr/amos_0007_0000.nii.gz 768 768 107 0.518229 0.518229 5\n",
      "/mnt/ssd/nnUNet_raw_data_base/nnUNet_raw_data/Task701_AMOS22/imagesTr/amos_0009_0000.nii.gz 512 512 90 0.782 0.782 5\n",
      "/mnt/ssd/nnUNet_raw_data_base/nnUNet_raw_data/Task701_AMOS22/imagesTr/amos_0010_0000.nii.gz 512 512 132 0.808 0.808 5\n",
      "/mnt/ssd/nnUNet_raw_data_base/nnUNet_raw_data/Task701_AMOS22/imagesTr/amos_0011_0000.nii.gz 512 512 92 0.782 0.782 5\n",
      "/mnt/ssd/nnUNet_raw_data_base/nnUNet_raw_data/Task701_AMOS22/imagesTr/amos_0014_0000.nii.gz 512 512 93 0.782 0.782 5\n",
      "/mnt/ssd/nnUNet_raw_data_base/nnUNet_raw_data/Task701_AMOS22/imagesTr/amos_0015_0000.nii.gz 768 768 103 0.64974 0.64974 5\n",
      "/mnt/ssd/nnUNet_raw_data_base/nnUNet_raw_data/Task701_AMOS22/imagesTr/amos_0016_0000.nii.gz 512 512 91 0.782 0.782 5\n",
      "/mnt/ssd/nnUNet_raw_data_base/nnUNet_raw_data/Task701_AMOS22/imagesTr/amos_0017_0000.nii.gz 512 512 91 0.782 0.782 5\n",
      "/mnt/ssd/nnUNet_raw_data_base/nnUNet_raw_data/Task701_AMOS22/imagesTr/amos_0019_0000.nii.gz 512 512 101 0.782 0.782 5\n",
      "/mnt/ssd/nnUNet_raw_data_base/nnUNet_raw_data/Task701_AMOS22/imagesTr/amos_0021_0000.nii.gz 512 512 124 0.892 0.892 5\n",
      "/mnt/ssd/nnUNet_raw_data_base/nnUNet_raw_data/Task701_AMOS22/imagesTr/amos_0023_0000.nii.gz 512 512 86 0.782 0.782 5\n",
      "/mnt/ssd/nnUNet_raw_data_base/nnUNet_raw_data/Task701_AMOS22/imagesTr/amos_0024_0000.nii.gz 512 512 85 0.782 0.782 5\n",
      "/mnt/ssd/nnUNet_raw_data_base/nnUNet_raw_data/Task701_AMOS22/imagesTr/amos_0025_0000.nii.gz 512 512 81 0.782 0.782 5\n",
      "/mnt/ssd/nnUNet_raw_data_base/nnUNet_raw_data/Task701_AMOS22/imagesTr/amos_0027_0000.nii.gz 512 512 124 0.782 0.782 5\n",
      "/mnt/ssd/nnUNet_raw_data_base/nnUNet_raw_data/Task701_AMOS22/imagesTr/amos_0030_0000.nii.gz 512 512 125 0.907 0.907 5\n",
      "/mnt/ssd/nnUNet_raw_data_base/nnUNet_raw_data/Task701_AMOS22/imagesTr/amos_0033_0000.nii.gz 512 512 106 0.782 0.782 5\n",
      "/mnt/ssd/nnUNet_raw_data_base/nnUNet_raw_data/Task701_AMOS22/imagesTr/amos_0035_0000.nii.gz 512 512 93 0.961 0.961 5\n",
      "/mnt/ssd/nnUNet_raw_data_base/nnUNet_raw_data/Task701_AMOS22/imagesTr/amos_0036_0000.nii.gz 512 512 124 0.888 0.888 5\n",
      "/mnt/ssd/nnUNet_raw_data_base/nnUNet_raw_data/Task701_AMOS22/imagesTr/amos_0038_0000.nii.gz 512 512 126 0.781 0.781 5\n",
      "/mnt/ssd/nnUNet_raw_data_base/nnUNet_raw_data/Task701_AMOS22/imagesTr/amos_0042_0000.nii.gz 512 512 89 0.782 0.782 5\n",
      "/mnt/ssd/nnUNet_raw_data_base/nnUNet_raw_data/Task701_AMOS22/imagesTr/amos_0043_0000.nii.gz 512 512 85 0.843 0.843 5\n",
      "/mnt/ssd/nnUNet_raw_data_base/nnUNet_raw_data/Task701_AMOS22/imagesTr/amos_0044_0000.nii.gz 768 768 104 0.507812 0.507812 5\n",
      "/mnt/ssd/nnUNet_raw_data_base/nnUNet_raw_data/Task701_AMOS22/imagesTr/amos_0045_0000.nii.gz 768 768 91 0.651042 0.651042 5\n",
      "/mnt/ssd/nnUNet_raw_data_base/nnUNet_raw_data/Task701_AMOS22/imagesTr/amos_0047_0000.nii.gz 768 768 98 0.588542 0.588542 5\n",
      "/mnt/ssd/nnUNet_raw_data_base/nnUNet_raw_data/Task701_AMOS22/imagesTr/amos_0048_0000.nii.gz 768 768 109 0.64974 0.64974 5\n",
      "/mnt/ssd/nnUNet_raw_data_base/nnUNet_raw_data/Task701_AMOS22/imagesTr/amos_0049_0000.nii.gz 768 768 96 0.507812 0.507812 5\n",
      "/mnt/ssd/nnUNet_raw_data_base/nnUNet_raw_data/Task701_AMOS22/imagesTr/amos_0050_0000.nii.gz 768 768 96 0.566406 0.566406 5\n",
      "/mnt/ssd/nnUNet_raw_data_base/nnUNet_raw_data/Task701_AMOS22/imagesTr/amos_0052_0000.nii.gz 768 768 102 0.610677 0.610677 5\n",
      "/mnt/ssd/nnUNet_raw_data_base/nnUNet_raw_data/Task701_AMOS22/imagesTr/amos_0054_0000.nii.gz 768 768 90 0.609375 0.609375 5\n",
      "/mnt/ssd/nnUNet_raw_data_base/nnUNet_raw_data/Task701_AMOS22/imagesTr/amos_0057_0000.nii.gz 768 768 87 0.651042 0.651042 5\n",
      "/mnt/ssd/nnUNet_raw_data_base/nnUNet_raw_data/Task701_AMOS22/imagesTr/amos_0058_0000.nii.gz 768 768 95 0.598958 0.598958 5\n",
      "/mnt/ssd/nnUNet_raw_data_base/nnUNet_raw_data/Task701_AMOS22/imagesTr/amos_0059_0000.nii.gz 512 512 78 0.782 0.782 5\n",
      "/mnt/ssd/nnUNet_raw_data_base/nnUNet_raw_data/Task701_AMOS22/imagesTr/amos_0060_0000.nii.gz 768 768 112 0.527344 0.527344 5\n",
      "/mnt/ssd/nnUNet_raw_data_base/nnUNet_raw_data/Task701_AMOS22/imagesTr/amos_0064_0000.nii.gz 512 512 89 0.782 0.782 5\n",
      "/mnt/ssd/nnUNet_raw_data_base/nnUNet_raw_data/Task701_AMOS22/imagesTr/amos_0066_0000.nii.gz 512 512 88 0.782 0.782 5\n",
      "/mnt/ssd/nnUNet_raw_data_base/nnUNet_raw_data/Task701_AMOS22/imagesTr/amos_0067_0000.nii.gz 512 512 122 0.854 0.854 5\n",
      "/mnt/ssd/nnUNet_raw_data_base/nnUNet_raw_data/Task701_AMOS22/imagesTr/amos_0069_0000.nii.gz 512 512 98 0.801 0.801 5\n",
      "/mnt/ssd/nnUNet_raw_data_base/nnUNet_raw_data/Task701_AMOS22/imagesTr/amos_0071_0000.nii.gz 512 512 135 0.835 0.835 5\n",
      "/mnt/ssd/nnUNet_raw_data_base/nnUNet_raw_data/Task701_AMOS22/imagesTr/amos_0072_0000.nii.gz 768 768 90 0.588542 0.588542 5\n",
      "/mnt/ssd/nnUNet_raw_data_base/nnUNet_raw_data/Task701_AMOS22/imagesTr/amos_0075_0000.nii.gz 512 512 84 0.782 0.782 5\n",
      "/mnt/ssd/nnUNet_raw_data_base/nnUNet_raw_data/Task701_AMOS22/imagesTr/amos_0076_0000.nii.gz 768 768 82 0.483073 0.483073 5\n",
      "/mnt/ssd/nnUNet_raw_data_base/nnUNet_raw_data/Task701_AMOS22/imagesTr/amos_0077_0000.nii.gz 768 768 102 0.651042 0.651042 5\n",
      "/mnt/ssd/nnUNet_raw_data_base/nnUNet_raw_data/Task701_AMOS22/imagesTr/amos_0078_0000.nii.gz 512 512 92 0.782 0.782 5\n",
      "/mnt/ssd/nnUNet_raw_data_base/nnUNet_raw_data/Task701_AMOS22/imagesTr/amos_0079_0000.nii.gz 768 768 81 0.535156 0.535156 5\n",
      "/mnt/ssd/nnUNet_raw_data_base/nnUNet_raw_data/Task701_AMOS22/imagesTr/amos_0081_0000.nii.gz 768 768 93 0.553385 0.553385 5\n",
      "/mnt/ssd/nnUNet_raw_data_base/nnUNet_raw_data/Task701_AMOS22/imagesTr/amos_0083_0000.nii.gz 512 512 100 0.782 0.782 5\n",
      "/mnt/ssd/nnUNet_raw_data_base/nnUNet_raw_data/Task701_AMOS22/imagesTr/amos_0084_0000.nii.gz 512 512 84 0.782 0.782 5\n",
      "/mnt/ssd/nnUNet_raw_data_base/nnUNet_raw_data/Task701_AMOS22/imagesTr/amos_0086_0000.nii.gz 512 512 80 0.858 0.858 5\n",
      "/mnt/ssd/nnUNet_raw_data_base/nnUNet_raw_data/Task701_AMOS22/imagesTr/amos_0088_0000.nii.gz 512 512 68 0.747 0.747 5\n",
      "/mnt/ssd/nnUNet_raw_data_base/nnUNet_raw_data/Task701_AMOS22/imagesTr/amos_0089_0000.nii.gz 512 512 116 0.946 0.946 5\n",
      "/mnt/ssd/nnUNet_raw_data_base/nnUNet_raw_data/Task701_AMOS22/imagesTr/amos_0092_0000.nii.gz 512 512 132 0.782 0.782 5\n",
      "/mnt/ssd/nnUNet_raw_data_base/nnUNet_raw_data/Task701_AMOS22/imagesTr/amos_0094_0000.nii.gz 512 512 91 0.824 0.824 5\n",
      "/mnt/ssd/nnUNet_raw_data_base/nnUNet_raw_data/Task701_AMOS22/imagesTr/amos_0097_0000.nii.gz 512 512 126 1.068 1.068 5\n",
      "/mnt/ssd/nnUNet_raw_data_base/nnUNet_raw_data/Task701_AMOS22/imagesTr/amos_0098_0000.nii.gz 512 512 97 0.782 0.782 5\n",
      "/mnt/ssd/nnUNet_raw_data_base/nnUNet_raw_data/Task701_AMOS22/imagesTr/amos_0099_0000.nii.gz 768 768 99 0.651042 0.651042 5\n",
      "/mnt/ssd/nnUNet_raw_data_base/nnUNet_raw_data/Task701_AMOS22/imagesTr/amos_0102_0000.nii.gz 768 768 101 0.63151 0.63151 5\n",
      "/mnt/ssd/nnUNet_raw_data_base/nnUNet_raw_data/Task701_AMOS22/imagesTr/amos_0103_0000.nii.gz 768 768 81 0.539062 0.539062 5\n",
      "/mnt/ssd/nnUNet_raw_data_base/nnUNet_raw_data/Task701_AMOS22/imagesTr/amos_0104_0000.nii.gz 512 512 88 0.782 0.782 5\n",
      "/mnt/ssd/nnUNet_raw_data_base/nnUNet_raw_data/Task701_AMOS22/imagesTr/amos_0105_0000.nii.gz 768 768 95 0.576823 0.576823 5\n",
      "/mnt/ssd/nnUNet_raw_data_base/nnUNet_raw_data/Task701_AMOS22/imagesTr/amos_0109_0000.nii.gz 768 768 90 0.619792 0.619792 5\n",
      "/mnt/ssd/nnUNet_raw_data_base/nnUNet_raw_data/Task701_AMOS22/imagesTr/amos_0110_0000.nii.gz 512 512 120 0.782 0.782 5\n",
      "/mnt/ssd/nnUNet_raw_data_base/nnUNet_raw_data/Task701_AMOS22/imagesTr/amos_0111_0000.nii.gz 512 512 107 0.782 0.782 5\n",
      "/mnt/ssd/nnUNet_raw_data_base/nnUNet_raw_data/Task701_AMOS22/imagesTr/amos_0113_0000.nii.gz 768 768 91 0.647135 0.647135 5\n",
      "/mnt/ssd/nnUNet_raw_data_base/nnUNet_raw_data/Task701_AMOS22/imagesTr/amos_0115_0000.nii.gz 768 768 88 0.472656 0.472656 5\n",
      "/mnt/ssd/nnUNet_raw_data_base/nnUNet_raw_data/Task701_AMOS22/imagesTr/amos_0116_0000.nii.gz 512 512 126 0.907 0.907 5\n",
      "/mnt/ssd/nnUNet_raw_data_base/nnUNet_raw_data/Task701_AMOS22/imagesTr/amos_0118_0000.nii.gz 512 512 84 0.854 0.854 5\n",
      "/mnt/ssd/nnUNet_raw_data_base/nnUNet_raw_data/Task701_AMOS22/imagesTr/amos_0119_0000.nii.gz 512 512 140 0.782 0.782 5\n",
      "/mnt/ssd/nnUNet_raw_data_base/nnUNet_raw_data/Task701_AMOS22/imagesTr/amos_0121_0000.nii.gz 512 512 120 0.946 0.946 5\n",
      "/mnt/ssd/nnUNet_raw_data_base/nnUNet_raw_data/Task701_AMOS22/imagesTr/amos_0124_0000.nii.gz 512 512 140 0.949 0.949 5\n",
      "/mnt/ssd/nnUNet_raw_data_base/nnUNet_raw_data/Task701_AMOS22/imagesTr/amos_0125_0000.nii.gz 768 768 105 0.554688 0.554688 5\n",
      "/mnt/ssd/nnUNet_raw_data_base/nnUNet_raw_data/Task701_AMOS22/imagesTr/amos_0126_0000.nii.gz 512 512 120 0.689 0.689 5\n",
      "/mnt/ssd/nnUNet_raw_data_base/nnUNet_raw_data/Task701_AMOS22/imagesTr/amos_0127_0000.nii.gz 512 512 77 0.782 0.782 5\n",
      "/mnt/ssd/nnUNet_raw_data_base/nnUNet_raw_data/Task701_AMOS22/imagesTr/amos_0129_0000.nii.gz 512 512 124 0.782 0.782 5\n",
      "/mnt/ssd/nnUNet_raw_data_base/nnUNet_raw_data/Task701_AMOS22/imagesTr/amos_0131_0000.nii.gz 768 768 112 0.651042 0.651042 5\n",
      "/mnt/ssd/nnUNet_raw_data_base/nnUNet_raw_data/Task701_AMOS22/imagesTr/amos_0133_0000.nii.gz 768 768 68 0.453125 0.453125 5\n",
      "/mnt/ssd/nnUNet_raw_data_base/nnUNet_raw_data/Task701_AMOS22/imagesTr/amos_0134_0000.nii.gz 512 512 109 0.854 0.854 5\n",
      "/mnt/ssd/nnUNet_raw_data_base/nnUNet_raw_data/Task701_AMOS22/imagesTr/amos_0135_0000.nii.gz 512 512 131 0.988 0.988 5\n",
      "/mnt/ssd/nnUNet_raw_data_base/nnUNet_raw_data/Task701_AMOS22/imagesTr/amos_0137_0000.nii.gz 512 512 134 1.022 1.022 5\n",
      "/mnt/ssd/nnUNet_raw_data_base/nnUNet_raw_data/Task701_AMOS22/imagesTr/amos_0138_0000.nii.gz 512 512 82 0.781 0.781 5\n",
      "/mnt/ssd/nnUNet_raw_data_base/nnUNet_raw_data/Task701_AMOS22/imagesTr/amos_0141_0000.nii.gz 512 512 89 0.9 0.9 5\n",
      "/mnt/ssd/nnUNet_raw_data_base/nnUNet_raw_data/Task701_AMOS22/imagesTr/amos_0142_0000.nii.gz 768 768 94 0.608073 0.608073 5\n",
      "/mnt/ssd/nnUNet_raw_data_base/nnUNet_raw_data/Task701_AMOS22/imagesTr/amos_0143_0000.nii.gz 768 768 72 0.529948 0.529948 5\n",
      "/mnt/ssd/nnUNet_raw_data_base/nnUNet_raw_data/Task701_AMOS22/imagesTr/amos_0147_0000.nii.gz 512 512 95 0.778 0.778 5\n",
      "/mnt/ssd/nnUNet_raw_data_base/nnUNet_raw_data/Task701_AMOS22/imagesTr/amos_0149_0000.nii.gz 512 512 97 0.904 0.904 5\n",
      "/mnt/ssd/nnUNet_raw_data_base/nnUNet_raw_data/Task701_AMOS22/imagesTr/amos_0152_0000.nii.gz 512 512 79 0.782 0.782 5\n",
      "/mnt/ssd/nnUNet_raw_data_base/nnUNet_raw_data/Task701_AMOS22/imagesTr/amos_0153_0000.nii.gz 512 512 93 0.808 0.808 5\n",
      "/mnt/ssd/nnUNet_raw_data_base/nnUNet_raw_data/Task701_AMOS22/imagesTr/amos_0154_0000.nii.gz 512 512 88 0.782 0.782 5\n",
      "/mnt/ssd/nnUNet_raw_data_base/nnUNet_raw_data/Task701_AMOS22/imagesTr/amos_0156_0000.nii.gz 512 512 68 0.747 0.747 5\n",
      "/mnt/ssd/nnUNet_raw_data_base/nnUNet_raw_data/Task701_AMOS22/imagesTr/amos_0158_0000.nii.gz 512 512 90 0.781 0.781 5\n",
      "/mnt/ssd/nnUNet_raw_data_base/nnUNet_raw_data/Task701_AMOS22/imagesTr/amos_0159_0000.nii.gz 512 512 133 0.831 0.831 5\n",
      "/mnt/ssd/nnUNet_raw_data_base/nnUNet_raw_data/Task701_AMOS22/imagesTr/amos_0160_0000.nii.gz 512 512 85 0.869 0.869 5\n",
      "/mnt/ssd/nnUNet_raw_data_base/nnUNet_raw_data/Task701_AMOS22/imagesTr/amos_0161_0000.nii.gz 512 512 114 0.858 0.858 5\n",
      "/mnt/ssd/nnUNet_raw_data_base/nnUNet_raw_data/Task701_AMOS22/imagesTr/amos_0162_0000.nii.gz 512 512 78 0.782 0.782 5\n",
      "/mnt/ssd/nnUNet_raw_data_base/nnUNet_raw_data/Task701_AMOS22/imagesTr/amos_0166_0000.nii.gz 512 512 81 0.782 0.782 5\n",
      "/mnt/ssd/nnUNet_raw_data_base/nnUNet_raw_data/Task701_AMOS22/imagesTr/amos_0170_0000.nii.gz 512 512 124 0.885 0.885 5\n",
      "/mnt/ssd/nnUNet_raw_data_base/nnUNet_raw_data/Task701_AMOS22/imagesTr/amos_0171_0000.nii.gz 768 768 97 0.651042 0.651042 5\n",
      "/mnt/ssd/nnUNet_raw_data_base/nnUNet_raw_data/Task701_AMOS22/imagesTr/amos_0172_0000.nii.gz 768 768 95 0.583333 0.583333 5\n",
      "/mnt/ssd/nnUNet_raw_data_base/nnUNet_raw_data/Task701_AMOS22/imagesTr/amos_0173_0000.nii.gz 768 768 108 0.634115 0.634115 5\n",
      "/mnt/ssd/nnUNet_raw_data_base/nnUNet_raw_data/Task701_AMOS22/imagesTr/amos_0175_0000.nii.gz 512 512 126 0.782 0.782 5\n",
      "/mnt/ssd/nnUNet_raw_data_base/nnUNet_raw_data/Task701_AMOS22/imagesTr/amos_0177_0000.nii.gz 512 512 134 0.782 0.782 5\n",
      "/mnt/ssd/nnUNet_raw_data_base/nnUNet_raw_data/Task701_AMOS22/imagesTr/amos_0179_0000.nii.gz 512 512 134 0.782 0.782 5\n",
      "/mnt/ssd/nnUNet_raw_data_base/nnUNet_raw_data/Task701_AMOS22/imagesTr/amos_0180_0000.nii.gz 768 768 85 0.53776 0.53776 5\n",
      "/mnt/ssd/nnUNet_raw_data_base/nnUNet_raw_data/Task701_AMOS22/imagesTr/amos_0181_0000.nii.gz 512 512 118 0.866 0.866 5\n",
      "/mnt/ssd/nnUNet_raw_data_base/nnUNet_raw_data/Task701_AMOS22/imagesTr/amos_0184_0000.nii.gz 512 512 97 0.827 0.827 5\n",
      "/mnt/ssd/nnUNet_raw_data_base/nnUNet_raw_data/Task701_AMOS22/imagesTr/amos_0185_0000.nii.gz 512 512 118 0.93 0.93 5\n",
      "/mnt/ssd/nnUNet_raw_data_base/nnUNet_raw_data/Task701_AMOS22/imagesTr/amos_0186_0000.nii.gz 768 768 85 0.466146 0.466146 5\n",
      "/mnt/ssd/nnUNet_raw_data_base/nnUNet_raw_data/Task701_AMOS22/imagesTr/amos_0188_0000.nii.gz 512 512 123 0.782 0.782 5\n",
      "/mnt/ssd/nnUNet_raw_data_base/nnUNet_raw_data/Task701_AMOS22/imagesTr/amos_0190_0000.nii.gz 512 512 133 0.793 0.793 5\n",
      "/mnt/ssd/nnUNet_raw_data_base/nnUNet_raw_data/Task701_AMOS22/imagesTr/amos_0192_0000.nii.gz 512 512 123 0.782 0.782 5\n",
      "/mnt/ssd/nnUNet_raw_data_base/nnUNet_raw_data/Task701_AMOS22/imagesTr/amos_0193_0000.nii.gz 512 512 116 0.885 0.885 5\n",
      "/mnt/ssd/nnUNet_raw_data_base/nnUNet_raw_data/Task701_AMOS22/imagesTr/amos_0195_0000.nii.gz 512 512 134 0.953 0.953 5\n",
      "/mnt/ssd/nnUNet_raw_data_base/nnUNet_raw_data/Task701_AMOS22/imagesTr/amos_0196_0000.nii.gz 512 512 89 0.782 0.782 5\n",
      "/mnt/ssd/nnUNet_raw_data_base/nnUNet_raw_data/Task701_AMOS22/imagesTr/amos_0197_0000.nii.gz 512 512 138 0.671 0.671 5\n",
      "/mnt/ssd/nnUNet_raw_data_base/nnUNet_raw_data/Task701_AMOS22/imagesTr/amos_0198_0000.nii.gz 512 512 81 0.881 0.881 5\n",
      "/mnt/ssd/nnUNet_raw_data_base/nnUNet_raw_data/Task701_AMOS22/imagesTr/amos_0199_0000.nii.gz 768 768 95 0.528646 0.528646 5\n",
      "/mnt/ssd/nnUNet_raw_data_base/nnUNet_raw_data/Task701_AMOS22/imagesTr/amos_0212_0000.nii.gz 512 512 215 0.544922 0.544922 2\n",
      "/mnt/ssd/nnUNet_raw_data_base/nnUNet_raw_data/Task701_AMOS22/imagesTr/amos_0214_0000.nii.gz 512 512 333 0.851562 0.851562 2\n",
      "/mnt/ssd/nnUNet_raw_data_base/nnUNet_raw_data/Task701_AMOS22/imagesTr/amos_0215_0000.nii.gz 512 512 222 0.691406 0.691406 2\n",
      "/mnt/ssd/nnUNet_raw_data_base/nnUNet_raw_data/Task701_AMOS22/imagesTr/amos_0217_0000.nii.gz 512 512 306 0.6875 0.6875 2\n",
      "/mnt/ssd/nnUNet_raw_data_base/nnUNet_raw_data/Task701_AMOS22/imagesTr/amos_0224_0000.nii.gz 512 512 212 0.673828 0.673828 2\n",
      "/mnt/ssd/nnUNet_raw_data_base/nnUNet_raw_data/Task701_AMOS22/imagesTr/amos_0225_0000.nii.gz 512 512 214 0.564453 0.564453 2\n",
      "/mnt/ssd/nnUNet_raw_data_base/nnUNet_raw_data/Task701_AMOS22/imagesTr/amos_0226_0000.nii.gz 512 512 303 0.617188 0.617188 2\n",
      "/mnt/ssd/nnUNet_raw_data_base/nnUNet_raw_data/Task701_AMOS22/imagesTr/amos_0230_0000.nii.gz 512 512 202 0.65625 0.65625 2\n",
      "/mnt/ssd/nnUNet_raw_data_base/nnUNet_raw_data/Task701_AMOS22/imagesTr/amos_0231_0000.nii.gz 512 512 93 0.767578 0.767578 5\n",
      "/mnt/ssd/nnUNet_raw_data_base/nnUNet_raw_data/Task701_AMOS22/imagesTr/amos_0235_0000.nii.gz 512 512 197 0.6875 0.6875 2\n",
      "/mnt/ssd/nnUNet_raw_data_base/nnUNet_raw_data/Task701_AMOS22/imagesTr/amos_0237_0000.nii.gz 512 512 294 0.65625 0.65625 2\n",
      "/mnt/ssd/nnUNet_raw_data_base/nnUNet_raw_data/Task701_AMOS22/imagesTr/amos_0239_0000.nii.gz 512 512 292 0.667969 0.667969 2\n",
      "/mnt/ssd/nnUNet_raw_data_base/nnUNet_raw_data/Task701_AMOS22/imagesTr/amos_0242_0000.nii.gz 512 512 243 0.646484 0.646484 2\n",
      "/mnt/ssd/nnUNet_raw_data_base/nnUNet_raw_data/Task701_AMOS22/imagesTr/amos_0245_0000.nii.gz 512 512 221 0.8125 0.8125 2.5\n",
      "/mnt/ssd/nnUNet_raw_data_base/nnUNet_raw_data/Task701_AMOS22/imagesTr/amos_0248_0000.nii.gz 512 512 245 0.689453 0.689453 2\n",
      "/mnt/ssd/nnUNet_raw_data_base/nnUNet_raw_data/Task701_AMOS22/imagesTr/amos_0249_0000.nii.gz 512 512 298 0.632812 0.632812 2\n",
      "/mnt/ssd/nnUNet_raw_data_base/nnUNet_raw_data/Task701_AMOS22/imagesTr/amos_0254_0000.nii.gz 512 512 124 0.597656 0.597656 5\n",
      "/mnt/ssd/nnUNet_raw_data_base/nnUNet_raw_data/Task701_AMOS22/imagesTr/amos_0259_0000.nii.gz 512 512 78 0.652344 0.652344 5\n",
      "/mnt/ssd/nnUNet_raw_data_base/nnUNet_raw_data/Task701_AMOS22/imagesTr/amos_0263_0000.nii.gz 512 512 122 0.675781 0.675781 5\n",
      "/mnt/ssd/nnUNet_raw_data_base/nnUNet_raw_data/Task701_AMOS22/imagesTr/amos_0264_0000.nii.gz 512 512 234 0.728516 0.728516 2\n",
      "/mnt/ssd/nnUNet_raw_data_base/nnUNet_raw_data/Task701_AMOS22/imagesTr/amos_0268_0000.nii.gz 512 512 191 0.648438 0.648438 2\n",
      "/mnt/ssd/nnUNet_raw_data_base/nnUNet_raw_data/Task701_AMOS22/imagesTr/amos_0272_0000.nii.gz 512 512 192 0.628906 0.628906 2\n",
      "/mnt/ssd/nnUNet_raw_data_base/nnUNet_raw_data/Task701_AMOS22/imagesTr/amos_0273_0000.nii.gz 512 512 244 0.75 0.75 2\n",
      "/mnt/ssd/nnUNet_raw_data_base/nnUNet_raw_data/Task701_AMOS22/imagesTr/amos_0274_0000.nii.gz 512 512 291 0.6875 0.6875 2\n",
      "/mnt/ssd/nnUNet_raw_data_base/nnUNet_raw_data/Task701_AMOS22/imagesTr/amos_0276_0000.nii.gz 512 512 192 0.611328 0.611328 2\n",
      "/mnt/ssd/nnUNet_raw_data_base/nnUNet_raw_data/Task701_AMOS22/imagesTr/amos_0279_0000.nii.gz 512 512 353 0.703125 0.703125 1.25\n",
      "/mnt/ssd/nnUNet_raw_data_base/nnUNet_raw_data/Task701_AMOS22/imagesTr/amos_0281_0000.nii.gz 512 512 205 0.570312 0.570312 2\n",
      "/mnt/ssd/nnUNet_raw_data_base/nnUNet_raw_data/Task701_AMOS22/imagesTr/amos_0282_0000.nii.gz 512 512 265 0.787109 0.787109 2\n",
      "/mnt/ssd/nnUNet_raw_data_base/nnUNet_raw_data/Task701_AMOS22/imagesTr/amos_0288_0000.nii.gz 512 512 131 0.746094 0.746094 5\n",
      "/mnt/ssd/nnUNet_raw_data_base/nnUNet_raw_data/Task701_AMOS22/imagesTr/amos_0294_0000.nii.gz 512 512 239 0.677734 0.677734 2\n",
      "/mnt/ssd/nnUNet_raw_data_base/nnUNet_raw_data/Task701_AMOS22/imagesTr/amos_0296_0000.nii.gz 512 512 187 0.794922 0.794922 2.5\n",
      "/mnt/ssd/nnUNet_raw_data_base/nnUNet_raw_data/Task701_AMOS22/imagesTr/amos_0297_0000.nii.gz 512 512 345 0.769531 0.769531 2\n",
      "/mnt/ssd/nnUNet_raw_data_base/nnUNet_raw_data/Task701_AMOS22/imagesTr/amos_0299_0000.nii.gz 512 512 163 0.779297 0.779297 2.5\n",
      "/mnt/ssd/nnUNet_raw_data_base/nnUNet_raw_data/Task701_AMOS22/imagesTr/amos_0301_0000.nii.gz 512 512 191 0.746094 0.746094 2.5\n",
      "/mnt/ssd/nnUNet_raw_data_base/nnUNet_raw_data/Task701_AMOS22/imagesTr/amos_0302_0000.nii.gz 512 512 86 0.617188 0.617188 5\n",
      "/mnt/ssd/nnUNet_raw_data_base/nnUNet_raw_data/Task701_AMOS22/imagesTr/amos_0307_0000.nii.gz 512 512 251 0.671875 0.671875 2\n",
      "/mnt/ssd/nnUNet_raw_data_base/nnUNet_raw_data/Task701_AMOS22/imagesTr/amos_0317_0000.nii.gz 512 512 218 0.615234 0.615234 2\n",
      "/mnt/ssd/nnUNet_raw_data_base/nnUNet_raw_data/Task701_AMOS22/imagesTr/amos_0320_0000.nii.gz 512 512 322 0.625 0.625 2\n",
      "/mnt/ssd/nnUNet_raw_data_base/nnUNet_raw_data/Task701_AMOS22/imagesTr/amos_0321_0000.nii.gz 512 512 192 0.71875 0.71875 2\n",
      "/mnt/ssd/nnUNet_raw_data_base/nnUNet_raw_data/Task701_AMOS22/imagesTr/amos_0330_0000.nii.gz 512 512 92 0.621094 0.621094 5\n",
      "/mnt/ssd/nnUNet_raw_data_base/nnUNet_raw_data/Task701_AMOS22/imagesTr/amos_0332_0000.nii.gz 512 512 228 0.683594 0.683594 2\n",
      "/mnt/ssd/nnUNet_raw_data_base/nnUNet_raw_data/Task701_AMOS22/imagesTr/amos_0336_0000.nii.gz 512 512 314 0.792969 0.792969 2\n",
      "/mnt/ssd/nnUNet_raw_data_base/nnUNet_raw_data/Task701_AMOS22/imagesTr/amos_0337_0000.nii.gz 512 512 224 0.748047 0.748047 2\n",
      "/mnt/ssd/nnUNet_raw_data_base/nnUNet_raw_data/Task701_AMOS22/imagesTr/amos_0341_0000.nii.gz 512 512 121 0.609375 0.609375 5\n",
      "/mnt/ssd/nnUNet_raw_data_base/nnUNet_raw_data/Task701_AMOS22/imagesTr/amos_0348_0000.nii.gz 512 512 317 0.675781 0.675781 2\n",
      "/mnt/ssd/nnUNet_raw_data_base/nnUNet_raw_data/Task701_AMOS22/imagesTr/amos_0349_0000.nii.gz 512 512 100 0.703125 0.703125 5\n",
      "/mnt/ssd/nnUNet_raw_data_base/nnUNet_raw_data/Task701_AMOS22/imagesTr/amos_0350_0000.nii.gz 512 512 237 0.621094 0.621094 2\n",
      "/mnt/ssd/nnUNet_raw_data_base/nnUNet_raw_data/Task701_AMOS22/imagesTr/amos_0351_0000.nii.gz 512 512 341 0.703125 0.703125 1.25\n",
      "/mnt/ssd/nnUNet_raw_data_base/nnUNet_raw_data/Task701_AMOS22/imagesTr/amos_0353_0000.nii.gz 512 512 217 0.650391 0.650391 2\n",
      "/mnt/ssd/nnUNet_raw_data_base/nnUNet_raw_data/Task701_AMOS22/imagesTr/amos_0358_0000.nii.gz 512 512 321 0.619141 0.619141 1.25\n",
      "/mnt/ssd/nnUNet_raw_data_base/nnUNet_raw_data/Task701_AMOS22/imagesTr/amos_0361_0000.nii.gz 768 768 84 0.527344 0.527344 5\n",
      "/mnt/ssd/nnUNet_raw_data_base/nnUNet_raw_data/Task701_AMOS22/imagesTr/amos_0362_0000.nii.gz 768 768 106 0.64974 0.64974 5\n",
      "/mnt/ssd/nnUNet_raw_data_base/nnUNet_raw_data/Task701_AMOS22/imagesTr/amos_0366_0000.nii.gz 768 768 86 0.535156 0.535156 5\n",
      "/mnt/ssd/nnUNet_raw_data_base/nnUNet_raw_data/Task701_AMOS22/imagesTr/amos_0367_0000.nii.gz 768 768 91 0.651042 0.651042 5\n",
      "/mnt/ssd/nnUNet_raw_data_base/nnUNet_raw_data/Task701_AMOS22/imagesTr/amos_0370_0000.nii.gz 768 768 101 0.645833 0.645833 5\n",
      "/mnt/ssd/nnUNet_raw_data_base/nnUNet_raw_data/Task701_AMOS22/imagesTr/amos_0371_0000.nii.gz 768 768 90 0.497396 0.497396 5\n",
      "/mnt/ssd/nnUNet_raw_data_base/nnUNet_raw_data/Task701_AMOS22/imagesTr/amos_0374_0000.nii.gz 768 768 83 0.640625 0.640625 5\n",
      "/mnt/ssd/nnUNet_raw_data_base/nnUNet_raw_data/Task701_AMOS22/imagesTr/amos_0376_0000.nii.gz 768 768 81 0.542969 0.542969 5\n",
      "/mnt/ssd/nnUNet_raw_data_base/nnUNet_raw_data/Task701_AMOS22/imagesTr/amos_0378_0000.nii.gz 768 768 96 0.632812 0.632812 5\n",
      "/mnt/ssd/nnUNet_raw_data_base/nnUNet_raw_data/Task701_AMOS22/imagesTr/amos_0379_0000.nii.gz 768 768 100 0.608073 0.608073 5\n",
      "/mnt/ssd/nnUNet_raw_data_base/nnUNet_raw_data/Task701_AMOS22/imagesTr/amos_0380_0000.nii.gz 768 768 93 0.606771 0.606771 5\n",
      "/mnt/ssd/nnUNet_raw_data_base/nnUNet_raw_data/Task701_AMOS22/imagesTr/amos_0381_0000.nii.gz 768 768 83 0.645833 0.645833 5\n",
      "/mnt/ssd/nnUNet_raw_data_base/nnUNet_raw_data/Task701_AMOS22/imagesTr/amos_0383_0000.nii.gz 768 768 97 0.605469 0.605469 5\n",
      "/mnt/ssd/nnUNet_raw_data_base/nnUNet_raw_data/Task701_AMOS22/imagesTr/amos_0384_0000.nii.gz 768 768 94 0.46224 0.46224 5\n",
      "/mnt/ssd/nnUNet_raw_data_base/nnUNet_raw_data/Task701_AMOS22/imagesTr/amos_0387_0000.nii.gz 768 768 105 0.582031 0.582031 5\n",
      "/mnt/ssd/nnUNet_raw_data_base/nnUNet_raw_data/Task701_AMOS22/imagesTr/amos_0388_0000.nii.gz 768 768 82 0.481771 0.481771 5\n",
      "/mnt/ssd/nnUNet_raw_data_base/nnUNet_raw_data/Task701_AMOS22/imagesTr/amos_0390_0000.nii.gz 768 768 99 0.621094 0.621094 5\n",
      "/mnt/ssd/nnUNet_raw_data_base/nnUNet_raw_data/Task701_AMOS22/imagesTr/amos_0391_0000.nii.gz 512 512 83 0.972656 0.972656 5\n",
      "/mnt/ssd/nnUNet_raw_data_base/nnUNet_raw_data/Task701_AMOS22/imagesTr/amos_0392_0000.nii.gz 768 768 85 0.536458 0.536458 5\n",
      "/mnt/ssd/nnUNet_raw_data_base/nnUNet_raw_data/Task701_AMOS22/imagesTr/amos_0395_0000.nii.gz 768 768 83 0.46224 0.46224 5\n",
      "/mnt/ssd/nnUNet_raw_data_base/nnUNet_raw_data/Task701_AMOS22/imagesTr/amos_0396_0000.nii.gz 768 768 86 0.643229 0.643229 5\n",
      "/mnt/ssd/nnUNet_raw_data_base/nnUNet_raw_data/Task701_AMOS22/imagesTr/amos_0398_0000.nii.gz 768 768 82 0.627604 0.627604 5\n",
      "/mnt/ssd/nnUNet_raw_data_base/nnUNet_raw_data/Task701_AMOS22/imagesTr/amos_0400_0000.nii.gz 768 768 79 0.467448 0.467448 5\n",
      "/mnt/ssd/nnUNet_raw_data_base/nnUNet_raw_data/Task701_AMOS22/imagesTr/amos_0401_0000.nii.gz 768 768 91 0.52474 0.52474 5\n",
      "/mnt/ssd/nnUNet_raw_data_base/nnUNet_raw_data/Task701_AMOS22/imagesTr/amos_0402_0000.nii.gz 768 768 93 0.552083 0.552083 5\n",
      "/mnt/ssd/nnUNet_raw_data_base/nnUNet_raw_data/Task701_AMOS22/imagesTr/amos_0403_0000.nii.gz 768 768 87 0.5625 0.5625 5\n",
      "/mnt/ssd/nnUNet_raw_data_base/nnUNet_raw_data/Task701_AMOS22/imagesTr/amos_0404_0000.nii.gz 768 768 84 0.535156 0.535156 5\n",
      "/mnt/ssd/nnUNet_raw_data_base/nnUNet_raw_data/Task701_AMOS22/imagesTr/amos_0405_0000.nii.gz 768 768 90 0.588542 0.588542 5\n",
      "/mnt/ssd/nnUNet_raw_data_base/nnUNet_raw_data/Task701_AMOS22/imagesTr/amos_0406_0000.nii.gz 768 768 82 0.55599 0.55599 5\n",
      "/mnt/ssd/nnUNet_raw_data_base/nnUNet_raw_data/Task701_AMOS22/imagesTr/amos_0408_0000.nii.gz 768 768 104 0.614583 0.614583 5\n",
      "/mnt/ssd/nnUNet_raw_data_base/nnUNet_raw_data/Task701_AMOS22/imagesTr/amos_0410_0000.nii.gz 768 768 107 0.583333 0.583333 5\n",
      "/mnt/ssd/nnUNet_raw_data_base/nnUNet_raw_data/Task701_AMOS22/imagesTr/amos_0507_0000.nii.gz 320 290 72 1.1875 1.1875 2.5\n",
      "/mnt/ssd/nnUNet_raw_data_base/nnUNet_raw_data/Task701_AMOS22/imagesTr/amos_0508_0000.nii.gz 260 80 320 1.40625 1.5 1.40625\n",
      "/mnt/ssd/nnUNet_raw_data_base/nnUNet_raw_data/Task701_AMOS22/imagesTr/amos_0510_0000.nii.gz 260 104 320 1.40625 1.5 1.40625\n",
      "/mnt/ssd/nnUNet_raw_data_base/nnUNet_raw_data/Task701_AMOS22/imagesTr/amos_0514_0000.nii.gz 260 112 320 1.40625 1.5 1.40625\n",
      "/mnt/ssd/nnUNet_raw_data_base/nnUNet_raw_data/Task701_AMOS22/imagesTr/amos_0517_0000.nii.gz 400 400 115 1 1 2\n",
      "/mnt/ssd/nnUNet_raw_data_base/nnUNet_raw_data/Task701_AMOS22/imagesTr/amos_0518_0000.nii.gz 400 120 400 1 2 1\n",
      "/mnt/ssd/nnUNet_raw_data_base/nnUNet_raw_data/Task701_AMOS22/imagesTr/amos_0522_0000.nii.gz 320 260 72 1.375 1.375 3\n",
      "/mnt/ssd/nnUNet_raw_data_base/nnUNet_raw_data/Task701_AMOS22/imagesTr/amos_0530_0000.nii.gz 320 290 64 1.1875 1.1875 3\n",
      "/mnt/ssd/nnUNet_raw_data_base/nnUNet_raw_data/Task701_AMOS22/imagesTr/amos_0532_0000.nii.gz 320 260 72 1.3125 1.3125 3\n",
      "/mnt/ssd/nnUNet_raw_data_base/nnUNet_raw_data/Task701_AMOS22/imagesTr/amos_0538_0000.nii.gz 320 260 64 1.3125 1.3125 3\n",
      "/mnt/ssd/nnUNet_raw_data_base/nnUNet_raw_data/Task701_AMOS22/imagesTr/amos_0540_0000.nii.gz 192 192 100 1.95312 1.95312 2\n",
      "/mnt/ssd/nnUNet_raw_data_base/nnUNet_raw_data/Task701_AMOS22/imagesTr/amos_0541_0000.nii.gz 320 290 72 1.1875 1.1875 3\n",
      "/mnt/ssd/nnUNet_raw_data_base/nnUNet_raw_data/Task701_AMOS22/imagesTr/amos_0548_0000.nii.gz 320 260 72 1.1875 1.1875 3\n",
      "/mnt/ssd/nnUNet_raw_data_base/nnUNet_raw_data/Task701_AMOS22/imagesTr/amos_0551_0000.nii.gz 576 468 72 0.694444 0.694444 3\n",
      "/mnt/ssd/nnUNet_raw_data_base/nnUNet_raw_data/Task701_AMOS22/imagesTr/amos_0554_0000.nii.gz 512 168 512 0.8203 1.1 0.8203\n",
      "/mnt/ssd/nnUNet_raw_data_base/nnUNet_raw_data/Task701_AMOS22/imagesTr/amos_0555_0000.nii.gz 288 232 72 1.38889 1.38889 3\n",
      "/mnt/ssd/nnUNet_raw_data_base/nnUNet_raw_data/Task701_AMOS22/imagesTr/amos_0557_0000.nii.gz 512 152 512 0.8203 1.1 0.8203\n",
      "/mnt/ssd/nnUNet_raw_data_base/nnUNet_raw_data/Task701_AMOS22/imagesTr/amos_0558_0000.nii.gz 512 168 512 0.8203 1.1 0.8203\n",
      "/mnt/ssd/nnUNet_raw_data_base/nnUNet_raw_data/Task701_AMOS22/imagesTr/amos_0570_0000.nii.gz 320 260 72 1.1875 1.1875 3\n",
      "/mnt/ssd/nnUNet_raw_data_base/nnUNet_raw_data/Task701_AMOS22/imagesTr/amos_0571_0000.nii.gz 320 258 72 1.25 1.25 3\n",
      "/mnt/ssd/nnUNet_raw_data_base/nnUNet_raw_data/Task701_AMOS22/imagesTr/amos_0578_0000.nii.gz 512 168 512 0.8203 1.1 0.8203\n",
      "/mnt/ssd/nnUNet_raw_data_base/nnUNet_raw_data/Task701_AMOS22/imagesTr/amos_0580_0000.nii.gz 320 60 320 1.1875 3 1.1875\n",
      "/mnt/ssd/nnUNet_raw_data_base/nnUNet_raw_data/Task701_AMOS22/imagesTr/amos_0582_0000.nii.gz 320 60 320 1.1875 3 1.1875\n",
      "/mnt/ssd/nnUNet_raw_data_base/nnUNet_raw_data/Task701_AMOS22/imagesTr/amos_0583_0000.nii.gz 320 60 320 1.1875 3 1.1875\n",
      "/mnt/ssd/nnUNet_raw_data_base/nnUNet_raw_data/Task701_AMOS22/imagesTr/amos_0584_0000.nii.gz 288 232 72 1.38889 1.38889 3\n",
      "/mnt/ssd/nnUNet_raw_data_base/nnUNet_raw_data/Task701_AMOS22/imagesTr/amos_0585_0000.nii.gz 320 260 72 1.1875 1.1875 3\n",
      "/mnt/ssd/nnUNet_raw_data_base/nnUNet_raw_data/Task701_AMOS22/imagesTr/amos_0586_0000.nii.gz 260 144 320 1.4063 1.5 1.4063\n",
      "/mnt/ssd/nnUNet_raw_data_base/nnUNet_raw_data/Task701_AMOS22/imagesTr/amos_0587_0000.nii.gz 320 260 72 1.1875 1.1875 3\n",
      "/mnt/ssd/nnUNet_raw_data_base/nnUNet_raw_data/Task701_AMOS22/imagesTr/amos_0588_0000.nii.gz 512 168 512 0.8203 1.1 0.8203\n",
      "/mnt/ssd/nnUNet_raw_data_base/nnUNet_raw_data/Task701_AMOS22/imagesTr/amos_0589_0000.nii.gz 320 60 320 1.1875 3 1.1875\n",
      "/mnt/ssd/nnUNet_raw_data_base/nnUNet_raw_data/Task701_AMOS22/imagesTr/amos_0590_0000.nii.gz 512 168 512 0.8203 1.1 0.8203\n",
      "/mnt/ssd/nnUNet_raw_data_base/nnUNet_raw_data/Task701_AMOS22/imagesTr/amos_0591_0000.nii.gz 320 260 72 1.1875 1.1875 3\n",
      "/mnt/ssd/nnUNet_raw_data_base/nnUNet_raw_data/Task701_AMOS22/imagesTr/amos_0592_0000.nii.gz 512 168 512 0.8203 1.1 0.8203\n",
      "/mnt/ssd/nnUNet_raw_data_base/nnUNet_raw_data/Task701_AMOS22/imagesTr/amos_0593_0000.nii.gz 576 468 72 0.694444 0.694444 3\n",
      "/mnt/ssd/nnUNet_raw_data_base/nnUNet_raw_data/Task701_AMOS22/imagesTr/amos_0594_0000.nii.gz 512 168 512 0.8203 1.1 0.8203\n",
      "/mnt/ssd/nnUNet_raw_data_base/nnUNet_raw_data/Task701_AMOS22/imagesTr/amos_0595_0000.nii.gz 320 260 72 1.1875 1.1875 3\n",
      "/mnt/ssd/nnUNet_raw_data_base/nnUNet_raw_data/Task701_AMOS22/imagesTr/amos_0596_0000.nii.gz 512 168 512 0.8203 1.1 0.8203\n",
      "/mnt/ssd/nnUNet_raw_data_base/nnUNet_raw_data/Task701_AMOS22/imagesTr/amos_0597_0000.nii.gz 320 60 320 1.1875 3 1.1875\n",
      "/mnt/ssd/nnUNet_raw_data_base/nnUNet_raw_data/Task701_AMOS22/imagesTr/amos_0599_0000.nii.gz 320 260 72 1.1875 1.1875 3\n",
      "/mnt/ssd/nnUNet_raw_data_base/nnUNet_raw_data/Task701_AMOS22/imagesTr/amos_0600_0000.nii.gz 320 260 72 1.1875 1.1875 3\n"
     ]
    }
   ],
   "source": [
    "def crop_img_and_dilatedmask(img,dilated_array):\n",
    "    ##dilationしたあと、その他の白い部分を消去する。\n",
    "\n",
    "    z_up = np.nonzero(dilated_array)[0].max() #zの上端\n",
    "    z_dn = np.nonzero(dilated_array)[0].min() #zの下端\n",
    "    y_up = np.nonzero(dilated_array)[1].max() #yの上端\n",
    "    y_dn = np.nonzero(dilated_array)[1].min() #yの下端\n",
    "    x_up = np.nonzero(dilated_array)[2].max() #xの上端\n",
    "    x_dn = np.nonzero(dilated_array)[2].min() #xの下端\n",
    "    print(z_dn,z_up,x_dn,x_up,y_dn,y_up)\n",
    "\n",
    "    return img[z_dn:z_up,y_dn:y_up,x_dn:x_up], dilated_array[z_dn:z_up,y_dn:y_up,x_dn:x_up]\n",
    "\n",
    "image_prediction_dir = '/mnt/hdd/LCSG_impacts/compana_impacts_ps256Tr/'\n",
    "image_dir = '/mnt/ssd/nnUNet_raw_data_base/nnUNet_raw_data/Task701_AMOS22/imagesTr/'\n",
    "new_dir = '/mnt/ssd/nnUNet_raw_data_base/nnUNet_raw_data/Task802_Impactscrop/imagesTr/'\n",
    "\n",
    "\n",
    "lung_seg_predict_lists = glob.glob(os.path.join(image_prediction_dir,'*nii.gz'))\n",
    "Impacts_lists = glob.glob(os.path.join(image_dir,'*.nii.gz'))\n",
    "pred_paths = glob.glob(image_dir+'/*.nii.gz')\n",
    "\n",
    "for pred_path in sorted(pred_paths):\n",
    "    \n",
    "    default_img_path = image_dir + os.path.basename(pred_path)#.split('.')[0] + '_0000.nii.gz'\n",
    "    default_img = sitk.ReadImage(default_img_path)\n",
    "\n",
    "    print(pred_path,default_img.GetMetaData('dim[1]'),default_img.GetMetaData('dim[2]'),default_img.GetMetaData('dim[3]'),default_img.GetMetaData('pixdim[1]'),default_img.GetMetaData('pixdim[2]'),default_img.GetMetaData('pixdim[3]'))\n",
    "\n"
   ]
  },
  {
   "cell_type": "code",
   "execution_count": 16,
   "metadata": {},
   "outputs": [
    {
     "data": {
      "text/plain": [
       "'3'"
      ]
     },
     "execution_count": 16,
     "metadata": {},
     "output_type": "execute_result"
    }
   ],
   "source": [
    "default_img.GetMetaData('dim[0]')"
   ]
  },
  {
   "cell_type": "code",
   "execution_count": 15,
   "metadata": {},
   "outputs": [
    {
     "name": "stdout",
     "output_type": "stream",
     "text": [
      "(ITK_FileNotes) = = \"Time=90539.000\"\n",
      "(ITK_original_direction) = = \"[UNKNOWN_PRINT_CHARACTERISTICS]\n",
      "\"\n",
      "(ITK_original_spacing) = = \"[UNKNOWN_PRINT_CHARACTERISTICS]\n",
      "\"\n",
      "(aux_file) = = \"\"\n",
      "(bitpix) = = \"16\"\n",
      "(cal_max) = = \"0\"\n",
      "(cal_min) = = \"0\"\n",
      "(datatype) = = \"4\"\n",
      "(descrip) = = \"Time=90539.000\"\n",
      "(dim[0]) = = \"3\"\n",
      "(dim[1]) = = \"768\"\n",
      "(dim[2]) = = \"768\"\n",
      "(dim[3]) = = \"104\"\n",
      "(dim[4]) = = \"1\"\n",
      "(dim[5]) = = \"1\"\n",
      "(dim[6]) = = \"1\"\n",
      "(dim[7]) = = \"1\"\n",
      "(dim_info) = = \"0\"\n",
      "(intent_code) = = \"0\"\n",
      "(intent_name) = = \"\"\n",
      "(intent_p1) = = \"0\"\n",
      "(intent_p2) = = \"0\"\n",
      "(intent_p3) = = \"0\"\n",
      "(nifti_type) = = \"1\"\n",
      "(pixdim[0]) = = \"0\"\n",
      "(pixdim[1]) = = \"0.614583\"\n",
      "(pixdim[2]) = = \"0.614583\"\n",
      "(pixdim[3]) = = \"5\"\n",
      "(pixdim[4]) = = \"0\"\n",
      "(pixdim[5]) = = \"0\"\n",
      "(pixdim[6]) = = \"0\"\n",
      "(pixdim[7]) = = \"0\"\n",
      "(qform_code) = = \"1\"\n",
      "(qform_code_name) = = \"NIFTI_XFORM_SCANNER_ANAT\"\n",
      "(qoffset_x) = = \"216\"\n",
      "(qoffset_y) = = \"-410.385\"\n",
      "(qoffset_z) = = \"72.5\"\n",
      "(quatern_b) = = \"0\"\n",
      "(quatern_c) = = \"1\"\n",
      "(quatern_d) = = \"0\"\n",
      "(scl_inter) = = \"-1024\"\n",
      "(scl_slope) = = \"1\"\n",
      "(sform_code) = = \"1\"\n",
      "(sform_code_name) = = \"NIFTI_XFORM_SCANNER_ANAT\"\n",
      "(slice_code) = = \"0\"\n",
      "(slice_duration) = = \"0\"\n",
      "(slice_end) = = \"0\"\n",
      "(slice_start) = = \"0\"\n",
      "(srow_x) = = \"-0.614583 -0 0 216\"\n",
      "(srow_y) = = \"0 0.614583 0 -410.385\"\n",
      "(srow_z) = = \"0 0 5 72.5\"\n",
      "(toffset) = = \"0\"\n",
      "(vox_offset) = = \"352\"\n",
      "(xyzt_units) = = \"10\"\n"
     ]
    }
   ],
   "source": [
    "\n",
    "\n",
    "for k in default_img.GetMetaDataKeys():\n",
    "    v = default_img.GetMetaData(k)\n",
    "    print(f'({k}) = = \"{v}\"')"
   ]
  },
  {
   "cell_type": "code",
   "execution_count": 6,
   "metadata": {},
   "outputs": [
    {
     "name": "stdout",
     "output_type": "stream",
     "text": [
      "0 138 0 509 0 350\n"
     ]
    }
   ],
   "source": [
    "default_array,dilated_array = crop_img_and_dilatedmask(default_array,pred_array)"
   ]
  },
  {
   "cell_type": "code",
   "execution_count": 29,
   "metadata": {},
   "outputs": [
    {
     "data": {
      "text/plain": [
       "137"
      ]
     },
     "execution_count": 29,
     "metadata": {},
     "output_type": "execute_result"
    }
   ],
   "source": [
    "np.nonzero(dilated_array)[0].max()"
   ]
  },
  {
   "cell_type": "markdown",
   "metadata": {},
   "source": [
    "## dilation https://stackoverflow.com/questions/62412913/how-to-speed-up-dilating-a-3d-region-in-a-boolean-numpy-array"
   ]
  },
  {
   "cell_type": "code",
   "execution_count": 69,
   "metadata": {},
   "outputs": [
    {
     "name": "stdout",
     "output_type": "stream",
     "text": [
      "40735594\n"
     ]
    }
   ],
   "source": [
    "print((pred_array==0).sum())"
   ]
  },
  {
   "cell_type": "code",
   "execution_count": 75,
   "metadata": {},
   "outputs": [],
   "source": [
    "from scipy.ndimage import morphology\n",
    "from scipy import signal"
   ]
  },
  {
   "cell_type": "code",
   "execution_count": 2,
   "metadata": {},
   "outputs": [
    {
     "data": {
      "text/plain": [
       "1"
      ]
     },
     "execution_count": 2,
     "metadata": {},
     "output_type": "execute_result"
    }
   ],
   "source": [
    "len([1])"
   ]
  },
  {
   "cell_type": "code",
   "execution_count": null,
   "metadata": {},
   "outputs": [],
   "source": []
  }
 ],
 "metadata": {
  "interpreter": {
   "hash": "c4d9aa521262795601c1104d79ebf89681e8773cac68a8dc9ec32a93aa2698b0"
  },
  "kernelspec": {
   "display_name": "Python 3.8.13 ('monai')",
   "language": "python",
   "name": "python3"
  },
  "language_info": {
   "codemirror_mode": {
    "name": "ipython",
    "version": 3
   },
   "file_extension": ".py",
   "mimetype": "text/x-python",
   "name": "python",
   "nbconvert_exporter": "python",
   "pygments_lexer": "ipython3",
   "version": "3.8.13"
  },
  "orig_nbformat": 4
 },
 "nbformat": 4,
 "nbformat_minor": 2
}
