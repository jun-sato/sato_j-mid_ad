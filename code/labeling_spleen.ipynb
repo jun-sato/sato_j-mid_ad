{
 "cells": [
  {
   "cell_type": "code",
   "execution_count": 1,
   "metadata": {},
   "outputs": [],
   "source": [
    "import json\n",
    "import numpy as np\n",
    "import pandas as pd\n",
    "import os\n",
    "import glob\n",
    "import shutil\n",
    "from tqdm import tqdm\n",
    "#import japanize_matplotlib\n",
    "import matplotlib.pyplot as plt\n",
    "#%matplotlib inline\n",
    "#%config InlineBackend.figure_format = 'retina'\n",
    "#from sciplotlib import style as spstyle\n",
    "import seaborn as sns\n",
    "from sklearn.model_selection import train_test_split,StratifiedGroupKFold\n",
    "\n",
    "def search_object(sentence,organ):\n",
    "    ##構造化文章単位を入力として、特定臓器の情報が入っているかを調べる。\n",
    "    ##入力 sentence\n",
    "    ##出力  IO+AEのtoken,IO token,AE token,IOのcertainty_score,IOのtype\n",
    "    img_obs = sentence['clinical_object']\n",
    "    mdfs = sentence['modifiers']\n",
    "    ae_tokens = []\n",
    "\n",
    "    for i in range(len(mdfs)):\n",
    "        mdf = mdfs[i]\n",
    "        if mdf['type'] == 'Anatomical_entity':\n",
    "            ae_tokens += mdf['tokens']\n",
    "    \n",
    "    keywords = ae_tokens+img_obs['tokens']\n",
    "    #print(keywords)\n",
    "    if organ in keywords:\n",
    "        keywords = ''.join(ae_tokens+img_obs['tokens'])\n",
    "        io_tokens = ''.join(img_obs['tokens'])\n",
    "        ae_tokens = ''.join(ae_tokens)\n",
    "        return keywords,io_tokens,ae_tokens,img_obs['certainty_score'],img_obs['type']\n",
    "    else:\n",
    "        return None,None,None,None,None\n",
    "def search_clinicalfinding(modifiers):\n",
    "    ##clinical_descriptor clinical_discriptorが文中に含まれているかを判別\n",
    "    ##入力 modifiers\n",
    "    ##出力  含まれるかどうかbool,clinicalと判断されたwords(なければ0を入れる。)\n",
    "    for i in range(len(modifiers)):\n",
    "        modifier = modifiers[i]\n",
    "        if modifier['type'] == 'Clinical_finding':\n",
    "            return modifier['certainty_score'],''.join(modifier['tokens'])\n",
    "        else:continue\n",
    "    return None,'not_found'\n",
    "def to_multi_label(df,abnormal_list):\n",
    "    for abnormal_label in abnormal_list:\n",
    "        df[abnormal_label] = df['label'].apply(lambda x: abnormal_label in x).astype(int)\n",
    "    df['nofinding'] = df[abnormal_list].sum(axis=1) == 0\n",
    "    return df"
   ]
  },
  {
   "cell_type": "code",
   "execution_count": 2,
   "metadata": {},
   "outputs": [],
   "source": [
    "###全体のラベル作成\n",
    "###observationは絶対に文中にあるという前提。\n",
    "###\n",
    "\n",
    "df = pd.read_pickle('../server_data/all_data_20211001-20220605.zip')\n",
    "\n",
    "organs = ['心','肝','胆','膵','脾','副腎','腎']\n",
    "os.makedirs('../output',exist_ok=True)\n",
    "counter = 0\n",
    "jmid_names = df['jmid_name']\n",
    "json_lists = df['FINDING_JSON']\n",
    "#def detect_change(modifiers):\n",
    "change_word_list = []\n",
    "clinical_word_list = []\n",
    "data = []\n",
    "counter = 0\n",
    "for jmid_name,json_load in zip(jmid_names,json_lists):\n",
    "    for organ in organs:\n",
    "        #print(organ)\n",
    "        for i in range(len(json_load)):\n",
    "            all_keyword,io_keyword,ae_keyword,certainty,img_type = search_object(json_load[i],organ)\n",
    "            clinical_scale,clinical_word = search_clinicalfinding(json_load[i]['modifiers'])\n",
    "\n",
    "            \n",
    "            if all_keyword is not None:\n",
    "                counter+=1\n",
    "                data.append([jmid_name,organ,all_keyword,io_keyword,ae_keyword,certainty,img_type,clinical_word,clinical_scale])\n",
    "            else:\n",
    "                continue\n",
    "\n",
    "data = pd.DataFrame(data,columns=['jmid_name','organ','all_tokens','io_tokens','ae_tokens','obs_certainty','obs_name','clin_findings','clin_certainty'])\n",
    "data['jmid_name'] = data['jmid_name'].apply(lambda x:x.split('/')[-1])"
   ]
  },
  {
   "cell_type": "code",
   "execution_count": 3,
   "metadata": {},
   "outputs": [],
   "source": [
    "data_spleen = data[(data['obs_name'] == 'Imaging_observation') & (data['organ'] == '脾')].reset_index(drop=True)"
   ]
  },
  {
   "cell_type": "code",
   "execution_count": 7,
   "metadata": {},
   "outputs": [
    {
     "name": "stdout",
     "output_type": "stream",
     "text": [
      "['異常', '所見', '異常所見', '脾腫', '有意な異常', '肝脾腫', 'リンパ節腫大', '病変', '粗大病変', '腫大', '事項', '腹水', '血栓', '腫大リンパ節', '口径不整', '高度肝脾腫', '狭窄', '脾腫大', 'SOL', '造影不領域', '脾腫瘤', '副血行路発達像', '閉塞', '仮性動脈瘤', '骨破壊像', '前立腺腫大', '腫瘤', '水腎', '粗大腫瘤', '脾損傷', '広狭不整', '尿管結石', '腫瘤性病変', '処置', '瘤', '嚢状瘤', 'LDA', '事項（-）', '結節', '主膵管拡張', '胆管拡張', '異常壁肥厚像', '新出病変', '骨病変肝脾腫', '肝脾腫大', '腹水貯留', '血腫', '閉塞機転', '造影剤の流入', '異常病変', '脂肪織濃度上昇', '造影増強効果', '像', '異常ない異常', '壁肥厚', '濃度上昇', '低吸収域', '腫瘤影']\n"
     ]
    }
   ],
   "source": [
    "print([i for i in data_spleen[data_spleen['obs_certainty'] == 0]['io_tokens'].value_counts().index])"
   ]
  },
  {
   "cell_type": "code",
   "execution_count": 8,
   "metadata": {},
   "outputs": [],
   "source": [
    "normal_obs_finding_list = ['異常', '所見', '異常所見', '脾腫', '有意な異常', '肝脾腫', 'リンパ節腫大',\n",
    "                            '病変', '粗大病変', '腫大', '事項', '腹水', '血栓', '腫大リンパ節', '口径不整', \n",
    "                            '高度肝脾腫', '狭窄', '脾腫大', 'SOL', '造影不領域', '脾腫瘤', '副血行路発達像', \n",
    "                            '閉塞', '仮性動脈瘤', '骨破壊像', '前立腺腫大', '腫瘤', '水腎', '粗大腫瘤', '脾損傷', \n",
    "                            '広狭不整', '尿管結石', '腫瘤性病変', '処置', '瘤', '嚢状瘤', 'LDA', '事項（-）', '結節', \n",
    "                            '主膵管拡張', '胆管拡張', '異常壁肥厚像', '新出病変', '骨病変肝脾腫', '肝脾腫大', '腹水貯留', \n",
    "                            '血腫', '閉塞機転', '造影剤の流入', '異常病変', '脂肪織濃度上昇', '造影増強効果', '像', '異常ない異常', \n",
    "                            '壁肥厚', '濃度上昇', '低吸収域', '腫瘤影']"
   ]
  },
  {
   "cell_type": "code",
   "execution_count": 9,
   "metadata": {},
   "outputs": [
    {
     "name": "stdout",
     "output_type": "stream",
     "text": [
      "['脾腫', '副脾', '腎嚢胞', '腫大', '脾動脈瘤', 'LDA', '腫瘤', 'シャント', '嚢胞', '閉塞', '小嚢胞', '拡張', '石灰化', '低吸収域', '胆石', '狭窄', '血栓', '動脈瘤', '腹水', '嚢胞性病変', '結石', '腎盂嚢胞', '変形', '結節', '軟部影', '脾腫大', '発達', '狭小化', '異常', '脾嚢胞', 'SOL', '壁肥厚', '萎縮', '小結節', '腫瘤影', '腎のう胞', '子宮筋腫', '脾腎シャント', '副血行路発達像', '腎萎縮', 'シャント発達', 'リンパ節腫大', '蛇行', '脾結節', '腎結石', '肥厚', '瘤状拡張', '肝脾腫', '造影不領域', '脾LDA', '瘤', '液貯留', '結腸憩室', '脾腫瘤', '血管腫', '小結石', '脾嚢胞性病変', '石灰化脾動脈瘤', '腫瘤内部', '構造', '脾腫瘍', '小石灰化', '傍腎盂嚢胞', 'くびれ', '血栓化', 'air', 'encasement', '収縮状態', '造影効果', '血腫瘤', '起始しています', '脾石灰化', '造影不良域', '低濃度域', '液体貯留', '水腎症', '小腎嚢胞', '造影不良', '低吸収結節', '血流', '口径', '腎シャント', '緊満', '脾腫同様', '腹膜肥厚', '気腫', '小LDA', '嚢胞性腫瘤', '腫瘍', '血流低下', 'リンパ節', '馬蹄腎', '腎嚢胞retroaortic_left_renal_vein', '梗塞', '胃壁造影効果', '多脾症', '微小嚢胞', '門脈瘤', '腹部大動脈瘤', '小低吸収域', '脂肪織の介在', '側副路発達', '腎短絡', '結節性病変', '造影欠損域', '増生', '嚢状動脈瘤', '部分梗塞', '短絡', '静脈瘤', '解離', '接触', '食道裂孔ヘルニア', '造影不良SOL', 'シャントの発達', '索状LDA', '瘤形成', '分岐', '索状影', '側副路', '血腫', '血栓形成', 'cavernous_transformation', '脾動脈拡張', '圧排変形', '門脈閉塞', 'IVC拡張', '血栓閉塞', '腹水貯留', '高吸収域', '硬化像', '軟部組織', '壁在血栓', '嚢状構造', '濃度上昇', '小動脈瘤様構造', '血性閉塞', '壁', '造影遅延', 'encase', 'epidermoid_cyst', '口径不整', '被包化液貯留', '脾膿瘍', '副路', '仮性動脈瘤', '脾梗塞域', '軟部濃度組織', '高吸収', '腎サイズ', '圧排', '前立腺腫大', '脾のう胞', '早期濃染結節', '開存', '線状', '所見', 'collateral', '心拡大', 'freeair', '大腸憩室', '微小石灰', '低吸収', '小嚢胞性病変', '像', '石灰化陰影', '漏斗胸', '小リンパ節', '腎腫大', '造影欠損', '尿路', '前立腺肥大', '被包化液体貯留', '小脾動脈瘤', '腎盂拡張', 'BPH', '憩室', '主膵管拡張', '軟部組織陰影', '嚢胞腎', '新鮮血栓', '増強効果', 'FDG集積', '脾内石灰化', '微小結石', '造影不良な結節', '被包化', 'free_air', '胆泥', '脾低濃度結節', '顕在化', '脂肪織濃度上昇', '粗大病変', '楔型', '脂肪濃度', '骨硬化', '腫瘤性病変', '体積', '脾腎シャント形成', '蛇行血管', '動脈硬化性の石灰化', '分岐しています', '便塊貯留', '側弯', '空気貯留', '微小石灰化', '造影欠損像', '腫大リンパ節', '虚脱', '高濃度域', '脾低濃度域', '便', '側副血行路', '嚢状拡張', 'シャント増生', '脾石灰化腫瘤', '脂肪織混濁', '脂肪濃度結節', '脱出', '萎縮脾', '結節影', '小結節影', '脾低吸収域', '脾動脈瘤形成', '脾低吸収結節', '肝嚢胞', '便塊', '凹凸不整', '骨硬化像', '傍ストーマヘルニア', '脂肪', '腸管気腫', '口径差', '腎回転異常', '病変', '口径変化', '結節状', 'くびれ像', '嚢胞性変化']\n"
     ]
    }
   ],
   "source": [
    "print([i for i in data_spleen[data_spleen['obs_certainty'] != 0]['io_tokens'].value_counts().index])"
   ]
  },
  {
   "cell_type": "markdown",
   "metadata": {},
   "source": [
    "**abnormal_obs_finding_list**→異常なラベルとして使用するもの  \n",
    "**abnormal_obs_finding_id**→異常の大まかなカテゴリ付け。  \n",
    "**abnormal_obs_finding_renamed**→大まかなカテゴリの名前"
   ]
  },
  {
   "cell_type": "code",
   "execution_count": 10,
   "metadata": {},
   "outputs": [
    {
     "name": "stdout",
     "output_type": "stream",
     "text": [
      "33 33\n"
     ]
    }
   ],
   "source": [
    "abnormal_obs_finding_list = ['脾腫', '腫大', 'LDA', '腫瘤', '嚢胞', '小嚢胞', '石灰化', '低吸収域', '嚢胞性病変', \n",
    "                            '結石', '変形', '結節', '脾腫大', '軟部影', '脾嚢胞', 'SOL', \n",
    "                            '萎縮', '壁肥厚', '小結節', '腫瘤影', '脾結節', '肥厚', '肝脾腫', '造影不領域', '脾LDA', \n",
    "                            '液貯留',  '脾腫瘤', '小結石', '血管腫', '脾嚢胞性病変','腫瘤内部', '脾腫瘍', '小石灰化']\n",
    "###normal findingsの所見idは0として、abnobal findingsの所見idをカテゴリごとに割り振る(i.e. 嚢胞→１、石灰化→2,脂肪肝→3などなど)\n",
    "### マルチラベルにする。\n",
    "##正常として使うラベルを指定する。\n",
    "#normal_obs_finding_list = ['SOL', '異常', '所見', '病変', '腫瘤影', '腫瘤', '腫瘤性病変','異常所見','占拠性病変', '有意な異常','新出病変','washout']\n",
    "##異常として使うラベルを指定する。\n",
    "#abnormal_obs_finding_list = ['嚢胞', '拡張', '小嚢胞', '腫瘤', 'LDA', '血管腫', '脂肪肝', '石灰化','肝嚢胞', '早期濃染像', 'pneumobilia']\n",
    "##疾患のグループにまとめる。\n",
    "abnormal_obs_finding_id = [0,1,4,4,2,2,3,4,2,3,1,4,1,4,2,4,1,4,4,4,4,4,4,4,4,4,4,3,4,2,4,4,3]\n",
    "\n",
    "abnormal_obs_finding_list_renamed = ['脾腫', '形態変化','嚢胞','石灰化', 'other_abnormality']\n",
    "print(len(abnormal_obs_finding_list),len(abnormal_obs_finding_id))"
   ]
  },
  {
   "cell_type": "markdown",
   "metadata": {},
   "source": [
    "**セグメンテーションが使えるもの　かつ　異常(正常)ラベルが定義されているもの**を学習に使用  \n",
    "データは検査ごとにまとめる。\n"
   ]
  },
  {
   "cell_type": "code",
   "execution_count": 11,
   "metadata": {},
   "outputs": [],
   "source": [
    "use_normalfindings = (data_spleen['io_tokens'].apply(lambda x:x in normal_obs_finding_list)) & (data_spleen['obs_certainty'] == 0)\n",
    "use_abnormalfindings = (data_spleen['io_tokens'].apply(lambda x:x in abnormal_obs_finding_list)) & (data_spleen['obs_certainty'] != 0)\n",
    "available_segmentation_list = glob.glob('../data/spleen_seg_img/*.nii.gz') \n",
    "available_segmentation_list = [os.path.basename(p) for p in available_segmentation_list]\n",
    "use_segmentation = data_spleen['jmid_name'].apply(lambda x:x in available_segmentation_list)\n",
    "# use_abnormalfindings = (data_spleen['clin_findings'].str.contains('癌') | data_spleen['clin_findings'].str.contains('IPMN'))\n",
    "# use_certainty = ((data_spleen['obs_certainty'] == 0) | (data_spleen['obs_certainty'] == 4) )\n",
    "data_spleen['use_training'] = (use_normalfindings|use_abnormalfindings) & use_segmentation \n",
    "data_spleen['label'] = 'not used'\n",
    "data_spleen.loc[use_abnormalfindings,'label'] = data_spleen.loc[use_abnormalfindings,'io_tokens'].apply(lambda x:abnormal_obs_finding_list_renamed[abnormal_obs_finding_id[abnormal_obs_finding_list.index(x)]])\n",
    "data_spleen.loc[use_normalfindings,'label'] = 'nofinding'\n",
    "tmp = data_spleen.groupby('jmid_name')['label'].apply(lambda x: x.tolist())\n",
    "data_spleen.drop('label',axis=1,inplace=True)\n",
    "data_spleen = data_spleen.merge(tmp,how='left',on='jmid_name')\n"
   ]
  },
  {
   "cell_type": "code",
   "execution_count": 12,
   "metadata": {},
   "outputs": [
    {
     "name": "stdout",
     "output_type": "stream",
     "text": [
      "(16031, 17)\n",
      "(12378, 18)\n",
      "(12378, 29)\n"
     ]
    },
    {
     "data": {
      "text/plain": [
       "脾腫                   2063\n",
       "形態変化                  579\n",
       "嚢胞                    291\n",
       "石灰化                   127\n",
       "other_abnormality     652\n",
       "nofinding            8783\n",
       "dtype: int64"
      ]
     },
     "execution_count": 12,
     "metadata": {},
     "output_type": "execute_result"
    }
   ],
   "source": [
    "data_spleen = to_multi_label(data_spleen,abnormal_obs_finding_list_renamed)\n",
    "\n",
    "data_spleen = data_spleen.drop_duplicates(subset='jmid_name')\n",
    "print(data_spleen.shape)\n",
    "data_spleen_use = data_spleen[data_spleen['use_training'] == True].reset_index(drop=True)\n",
    "data_spleen_use['file'] = data_spleen_use['jmid_name']\n",
    "data_spleen_use['jmid_name'] = data_spleen_use['jmid_name'].apply(lambda x:'_'.join(x.split('_')[:-1])+'_0000.nii.gz')\n",
    "\n",
    "print(data_spleen_use.shape)\n",
    "##元の所見文と結合\n",
    "data_spleen_use = data_spleen_use.merge(df,on='jmid_name',how='left').drop_duplicates(subset='jmid_name')\n",
    "print(data_spleen_use.shape)\n",
    "data_spleen_use[abnormal_obs_finding_list_renamed+['nofinding']].sum(axis=0)"
   ]
  },
  {
   "cell_type": "code",
   "execution_count": null,
   "metadata": {},
   "outputs": [],
   "source": [
    "## cleanなラベルは検証データとして使用する。学習データはそれ以外を使用。\n",
    "clean_df = pd.read_csv('../data/spleen_dataset_test_clean.csv')\n",
    "jmid_files_clean = clean_df['file'].values\n",
    "tmp = data_spleen_use[data_spleen_use['jmid_name'].apply(lambda x:x in jmid_files_clean)]\n",
    "test_groups = tmp['FACILITY_CODE'].astype(str)+tmp['ACCESSION_NUMBER'].astype(str)\n",
    "groups = data_spleen_use['FACILITY_CODE'].astype(str)+data_spleen_use['ACCESSION_NUMBER'].astype(str)\n",
    "\n",
    "\n",
    "df_train = data_spleen_use[groups.apply(lambda x:x not in test_groups.tolist())]\n",
    "df_test =  data_spleen_use[groups.apply(lambda x:x in test_groups.tolist())]\n",
    "\n",
    "\n",
    "columns = ['file','organ','all_tokens','io_tokens','ae_tokens','obs_certainty','FINDING','FINDING_JSON','FACILITY_CODE','ACCESSION_NUMBER']+abnormal_obs_finding_list_renamed+['nofinding']\n",
    "df_train[columns].sort_values(by='file').reset_index(drop=True).to_csv('../data/liver_dataset_train_multi5.csv',index=False)\n",
    "df_test[columns].sort_values(by='file').reset_index(drop=True).to_csv('../data/liver_dataset_test_multi5.csv',index=False)"
   ]
  }
 ],
 "metadata": {
  "interpreter": {
   "hash": "c4d9aa521262795601c1104d79ebf89681e8773cac68a8dc9ec32a93aa2698b0"
  },
  "kernelspec": {
   "display_name": "Python 3.8.13 ('monai')",
   "language": "python",
   "name": "python3"
  },
  "language_info": {
   "codemirror_mode": {
    "name": "ipython",
    "version": 3
   },
   "file_extension": ".py",
   "mimetype": "text/x-python",
   "name": "python",
   "nbconvert_exporter": "python",
   "pygments_lexer": "ipython3",
   "version": "3.8.15"
  },
  "orig_nbformat": 4
 },
 "nbformat": 4,
 "nbformat_minor": 2
}
