{
 "cells": [
  {
   "cell_type": "code",
   "execution_count": 1,
   "metadata": {},
   "outputs": [],
   "source": [
    "import glob\n",
    "import os\n",
    "import pandas as pd\n",
    "from tqdm import tqdm\n",
    "\n",
    "df = pd.read_csv('../dcm_download.csv',header=None)\n",
    "df.head(),df.shape\n",
    "df.columns = ['file']"
   ]
  },
  {
   "cell_type": "code",
   "execution_count": 2,
   "metadata": {},
   "outputs": [],
   "source": [
    "df['institutionName'] = df['file'].apply(lambda x:x.split('_')[0])\n",
    "df['accessionNumber'] = df['file'].apply(lambda x:x.split('_')[1])\n",
    "df['seriesNumber']=df['file'].apply(lambda x:int(x.split('_')[2]))\n",
    "df['seriesNumber'] = df['seriesNumber'].astype(str)"
   ]
  },
  {
   "cell_type": "code",
   "execution_count": 3,
   "metadata": {},
   "outputs": [],
   "source": [
    "#jmid nii 対応表\n",
    "\n",
    "jmid_nii = pd.read_excel('../JMID_NII施設ID対応表.xlsx')\n",
    "jmid_nii['NII側ID'] = jmid_nii['NII側ID'].fillna(0).astype(int).astype(str)\n",
    "jmid_nii['JMID側ID'] = jmid_nii['JMID側ID'].fillna(0).astype(int).astype(str)\n",
    "#df['施設コード'] = df['施設コード'].astype(str)\n",
    "df = df.merge(jmid_nii,left_on='institutionName',right_on='NII側ID',how='left')"
   ]
  },
  {
   "cell_type": "code",
   "execution_count": 4,
   "metadata": {},
   "outputs": [],
   "source": [
    "df.columns = ['file', 'nii_institutionName', 'accessionNumber', 'seriesNumber', 'institutionName','NII側ID', '大学名']"
   ]
  },
  {
   "cell_type": "code",
   "execution_count": 123,
   "metadata": {},
   "outputs": [
    {
     "data": {
      "text/plain": [
       "0       3319800011\n",
       "1       3319800011\n",
       "2       3319800011\n",
       "3       3319800011\n",
       "4       3319800011\n",
       "           ...    \n",
       "6003    3319800011\n",
       "6004    3319800011\n",
       "6005    3319800011\n",
       "6006    3319800011\n",
       "6007    3319800011\n",
       "Name: institutionName, Length: 6008, dtype: int64"
      ]
     },
     "execution_count": 123,
     "metadata": {},
     "output_type": "execute_result"
    }
   ],
   "source": [
    "tmp = pd.read_csv(csv_path,low_memory=False)\n",
    "tmp['institutionName']"
   ]
  },
  {
   "cell_type": "code",
   "execution_count": 5,
   "metadata": {},
   "outputs": [
    {
     "name": "stderr",
     "output_type": "stream",
     "text": [
      "100%|██████████| 1031/1031 [16:42<00:00,  1.03it/s]\n"
     ]
    }
   ],
   "source": [
    "csv_paths = glob.glob('../jmid_cloud/*/*.csv')\n",
    "cloud_df = pd.DataFrame()\n",
    "for csv_path in tqdm(csv_paths):\n",
    "    tmp = pd.read_csv(csv_path,low_memory=False)\n",
    "    tmp['seriesNumber'] = tmp['seriesNumber'].astype(str)\n",
    "    tmp['accessionNumber']=tmp['accessionNumber'].astype(str)\n",
    "    tmp['institutionName'] = tmp['institutionName'].astype(str)    #print(tmp.shape)\n",
    "    cloud_df = pd.concat([cloud_df,tmp])\n",
    "cloud_df = cloud_df.reset_index(drop=True)"
   ]
  },
  {
   "cell_type": "code",
   "execution_count": 104,
   "metadata": {},
   "outputs": [
    {
     "data": {
      "text/html": [
       "<div>\n",
       "<style scoped>\n",
       "    .dataframe tbody tr th:only-of-type {\n",
       "        vertical-align: middle;\n",
       "    }\n",
       "\n",
       "    .dataframe tbody tr th {\n",
       "        vertical-align: top;\n",
       "    }\n",
       "\n",
       "    .dataframe thead th {\n",
       "        text-align: right;\n",
       "    }\n",
       "</style>\n",
       "<table border=\"1\" class=\"dataframe\">\n",
       "  <thead>\n",
       "    <tr style=\"text-align: right;\">\n",
       "      <th></th>\n",
       "      <th>requestId</th>\n",
       "      <th>studyInstanceUID</th>\n",
       "      <th>seriesInstanceUID</th>\n",
       "      <th>r_reportId</th>\n",
       "      <th>r_clinicalReportId</th>\n",
       "      <th>studyGroupId</th>\n",
       "      <th>seriesNumber</th>\n",
       "      <th>modality</th>\n",
       "      <th>fov</th>\n",
       "      <th>bodyPartExamined</th>\n",
       "      <th>...</th>\n",
       "      <th>r_patientComments</th>\n",
       "      <th>r_patientOrganizationId</th>\n",
       "      <th>r_medicalHistory</th>\n",
       "      <th>r_readingRequestInfo</th>\n",
       "      <th>r_emergencyReadingInfo</th>\n",
       "      <th>r_reportFormatInfo</th>\n",
       "      <th>r_sharedMemoInfo</th>\n",
       "      <th>r_findingsStatus</th>\n",
       "      <th>r_subjectToAdditionalManagement</th>\n",
       "      <th>r_otherDocumentInfo</th>\n",
       "    </tr>\n",
       "  </thead>\n",
       "  <tbody>\n",
       "    <tr>\n",
       "      <th>0</th>\n",
       "      <td>efb97e1e0ceb4a83ab80feaf89cb1488</td>\n",
       "      <td>1.2.392.200001.2.3.5.713.4.99.4.5134745420220824</td>\n",
       "      <td>1.2.392.200036.9116.2.6.1.54365.1690115318.166...</td>\n",
       "      <td>NaN</td>\n",
       "      <td>NaN</td>\n",
       "      <td>240001</td>\n",
       "      <td>1</td>\n",
       "      <td>CT</td>\n",
       "      <td>552.0x1492.0</td>\n",
       "      <td>CHEST_ABDOMEN</td>\n",
       "      <td>...</td>\n",
       "      <td>NaN</td>\n",
       "      <td>NaN</td>\n",
       "      <td>NaN</td>\n",
       "      <td>NaN</td>\n",
       "      <td>NaN</td>\n",
       "      <td>NaN</td>\n",
       "      <td>NaN</td>\n",
       "      <td>NaN</td>\n",
       "      <td>NaN</td>\n",
       "      <td>NaN</td>\n",
       "    </tr>\n",
       "    <tr>\n",
       "      <th>1</th>\n",
       "      <td>efb97e1e0ceb4a83ab80feaf89cb1488</td>\n",
       "      <td>1.2.392.200001.2.3.5.713.4.99.4.5134745420220824</td>\n",
       "      <td>1.2.392.200036.9116.2.6.1.54365.1690115318.166...</td>\n",
       "      <td>NaN</td>\n",
       "      <td>NaN</td>\n",
       "      <td>240001</td>\n",
       "      <td>2</td>\n",
       "      <td>CT</td>\n",
       "      <td>349.2x349.2</td>\n",
       "      <td>CHEST_ABDOMEN</td>\n",
       "      <td>...</td>\n",
       "      <td>NaN</td>\n",
       "      <td>NaN</td>\n",
       "      <td>NaN</td>\n",
       "      <td>NaN</td>\n",
       "      <td>NaN</td>\n",
       "      <td>NaN</td>\n",
       "      <td>NaN</td>\n",
       "      <td>NaN</td>\n",
       "      <td>NaN</td>\n",
       "      <td>NaN</td>\n",
       "    </tr>\n",
       "    <tr>\n",
       "      <th>2</th>\n",
       "      <td>efb97e1e0ceb4a83ab80feaf89cb1488</td>\n",
       "      <td>1.2.392.200001.2.3.5.713.4.99.4.5134745420220824</td>\n",
       "      <td>1.2.392.200036.9116.2.6.1.54365.1690115318.166...</td>\n",
       "      <td>NaN</td>\n",
       "      <td>NaN</td>\n",
       "      <td>240001</td>\n",
       "      <td>3</td>\n",
       "      <td>CT</td>\n",
       "      <td>349.2x349.2</td>\n",
       "      <td>CHEST_ABDOMEN</td>\n",
       "      <td>...</td>\n",
       "      <td>NaN</td>\n",
       "      <td>NaN</td>\n",
       "      <td>NaN</td>\n",
       "      <td>NaN</td>\n",
       "      <td>NaN</td>\n",
       "      <td>NaN</td>\n",
       "      <td>NaN</td>\n",
       "      <td>NaN</td>\n",
       "      <td>NaN</td>\n",
       "      <td>NaN</td>\n",
       "    </tr>\n",
       "    <tr>\n",
       "      <th>3</th>\n",
       "      <td>efb97e1e0ceb4a83ab80feaf89cb1488</td>\n",
       "      <td>1.2.392.200001.2.3.5.713.4.99.4.5134745420220824</td>\n",
       "      <td>1.2.392.200036.9116.2.6.1.54365.1690115318.166...</td>\n",
       "      <td>NaN</td>\n",
       "      <td>NaN</td>\n",
       "      <td>240001</td>\n",
       "      <td>9001</td>\n",
       "      <td>SR</td>\n",
       "      <td>NaN</td>\n",
       "      <td>NaN</td>\n",
       "      <td>...</td>\n",
       "      <td>NaN</td>\n",
       "      <td>NaN</td>\n",
       "      <td>NaN</td>\n",
       "      <td>NaN</td>\n",
       "      <td>NaN</td>\n",
       "      <td>NaN</td>\n",
       "      <td>NaN</td>\n",
       "      <td>NaN</td>\n",
       "      <td>NaN</td>\n",
       "      <td>NaN</td>\n",
       "    </tr>\n",
       "    <tr>\n",
       "      <th>4</th>\n",
       "      <td>efb97e1e0ceb4a83ab80feaf89cb1488</td>\n",
       "      <td>1.2.840.113619.2.416.2379293900273822345499379...</td>\n",
       "      <td>1.2.840.113619.2.416.1212020214188956660771399...</td>\n",
       "      <td>NaN</td>\n",
       "      <td>NaN</td>\n",
       "      <td>240002</td>\n",
       "      <td>2</td>\n",
       "      <td>CT</td>\n",
       "      <td>350.0x350.0</td>\n",
       "      <td>ABDOMEN</td>\n",
       "      <td>...</td>\n",
       "      <td>NaN</td>\n",
       "      <td>NaN</td>\n",
       "      <td>NaN</td>\n",
       "      <td>NaN</td>\n",
       "      <td>NaN</td>\n",
       "      <td>NaN</td>\n",
       "      <td>NaN</td>\n",
       "      <td>NaN</td>\n",
       "      <td>NaN</td>\n",
       "      <td>NaN</td>\n",
       "    </tr>\n",
       "  </tbody>\n",
       "</table>\n",
       "<p>5 rows × 150 columns</p>\n",
       "</div>"
      ],
      "text/plain": [
       "                          requestId  \\\n",
       "0  efb97e1e0ceb4a83ab80feaf89cb1488   \n",
       "1  efb97e1e0ceb4a83ab80feaf89cb1488   \n",
       "2  efb97e1e0ceb4a83ab80feaf89cb1488   \n",
       "3  efb97e1e0ceb4a83ab80feaf89cb1488   \n",
       "4  efb97e1e0ceb4a83ab80feaf89cb1488   \n",
       "\n",
       "                                    studyInstanceUID  \\\n",
       "0   1.2.392.200001.2.3.5.713.4.99.4.5134745420220824   \n",
       "1   1.2.392.200001.2.3.5.713.4.99.4.5134745420220824   \n",
       "2   1.2.392.200001.2.3.5.713.4.99.4.5134745420220824   \n",
       "3   1.2.392.200001.2.3.5.713.4.99.4.5134745420220824   \n",
       "4  1.2.840.113619.2.416.2379293900273822345499379...   \n",
       "\n",
       "                                   seriesInstanceUID  r_reportId  \\\n",
       "0  1.2.392.200036.9116.2.6.1.54365.1690115318.166...         NaN   \n",
       "1  1.2.392.200036.9116.2.6.1.54365.1690115318.166...         NaN   \n",
       "2  1.2.392.200036.9116.2.6.1.54365.1690115318.166...         NaN   \n",
       "3  1.2.392.200036.9116.2.6.1.54365.1690115318.166...         NaN   \n",
       "4  1.2.840.113619.2.416.1212020214188956660771399...         NaN   \n",
       "\n",
       "   r_clinicalReportId  studyGroupId seriesNumber modality           fov  \\\n",
       "0                 NaN        240001            1       CT  552.0x1492.0   \n",
       "1                 NaN        240001            2       CT   349.2x349.2   \n",
       "2                 NaN        240001            3       CT   349.2x349.2   \n",
       "3                 NaN        240001         9001       SR           NaN   \n",
       "4                 NaN        240002            2       CT   350.0x350.0   \n",
       "\n",
       "  bodyPartExamined  ...  r_patientComments  r_patientOrganizationId  \\\n",
       "0    CHEST_ABDOMEN  ...                NaN                      NaN   \n",
       "1    CHEST_ABDOMEN  ...                NaN                      NaN   \n",
       "2    CHEST_ABDOMEN  ...                NaN                      NaN   \n",
       "3              NaN  ...                NaN                      NaN   \n",
       "4          ABDOMEN  ...                NaN                      NaN   \n",
       "\n",
       "   r_medicalHistory  r_readingRequestInfo r_emergencyReadingInfo  \\\n",
       "0               NaN                   NaN                    NaN   \n",
       "1               NaN                   NaN                    NaN   \n",
       "2               NaN                   NaN                    NaN   \n",
       "3               NaN                   NaN                    NaN   \n",
       "4               NaN                   NaN                    NaN   \n",
       "\n",
       "  r_reportFormatInfo  r_sharedMemoInfo  r_findingsStatus  \\\n",
       "0                NaN               NaN               NaN   \n",
       "1                NaN               NaN               NaN   \n",
       "2                NaN               NaN               NaN   \n",
       "3                NaN               NaN               NaN   \n",
       "4                NaN               NaN               NaN   \n",
       "\n",
       "  r_subjectToAdditionalManagement  r_otherDocumentInfo  \n",
       "0                             NaN                  NaN  \n",
       "1                             NaN                  NaN  \n",
       "2                             NaN                  NaN  \n",
       "3                             NaN                  NaN  \n",
       "4                             NaN                  NaN  \n",
       "\n",
       "[5 rows x 150 columns]"
      ]
     },
     "execution_count": 104,
     "metadata": {},
     "output_type": "execute_result"
    }
   ],
   "source": [
    "cloud_df.head()"
   ]
  },
  {
   "cell_type": "code",
   "execution_count": 105,
   "metadata": {},
   "outputs": [],
   "source": [
    "cloud_df['accessionNumber'] = cloud_df['accessionNumber'].apply(lambda x:x.split('.')[0])\n",
    "cloud_df['institutionName'] = cloud_df['institutionName'].apply(lambda x:x.split('.')[0])"
   ]
  },
  {
   "cell_type": "code",
   "execution_count": 106,
   "metadata": {},
   "outputs": [
    {
     "data": {
      "text/plain": [
       "0          1318814790\n",
       "1          1318814790\n",
       "2          1318814790\n",
       "3          1318814790\n",
       "4          1318814790\n",
       "              ...    \n",
       "4492678    3319800011\n",
       "4492679    3319800011\n",
       "4492680    3319800011\n",
       "4492681    3319800011\n",
       "4492682    3319800011\n",
       "Name: institutionName, Length: 4492683, dtype: object"
      ]
     },
     "execution_count": 106,
     "metadata": {},
     "output_type": "execute_result"
    }
   ],
   "source": [
    "cloud_df['institutionName']"
   ]
  },
  {
   "cell_type": "code",
   "execution_count": 107,
   "metadata": {},
   "outputs": [],
   "source": [
    "merge_df = df.merge(cloud_df,how='inner',on=['accessionNumber','institutionName','seriesNumber'])"
   ]
  },
  {
   "cell_type": "code",
   "execution_count": 111,
   "metadata": {},
   "outputs": [
    {
     "data": {
      "text/plain": [
       "(22472, 154)"
      ]
     },
     "execution_count": 111,
     "metadata": {},
     "output_type": "execute_result"
    }
   ],
   "source": [
    "merge_df.drop_duplicates(subset='file').shape"
   ]
  },
  {
   "cell_type": "code",
   "execution_count": 116,
   "metadata": {},
   "outputs": [
    {
     "data": {
      "text/plain": [
       "requestId                 0\n",
       "studyInstanceUID          0\n",
       "seriesInstanceUID         0\n",
       "r_reportId            19387\n",
       "r_clinicalReportId    19387\n",
       "dtype: int64"
      ]
     },
     "execution_count": 116,
     "metadata": {},
     "output_type": "execute_result"
    }
   ],
   "source": [
    "merge_df[['requestId','studyInstanceUID','seriesInstanceUID','r_reportId','r_clinicalReportId']].isna().sum(axis=0)"
   ]
  },
  {
   "cell_type": "code",
   "execution_count": 125,
   "metadata": {},
   "outputs": [],
   "source": [
    "merge_df['accessionNumber']=merge_df['accessionNumber'].astype(int)\n",
    "merge_df['institutionName']=merge_df['institutionName'].astype(int)\n",
    "merge_df['seriesNumber'] =merge_df['seriesNumber'].astype(int)\n",
    "merge_df[cloud_df.columns].iloc[:500].to_csv('merge_df.csv',index=False,encoding=\"utf_8_sig\")"
   ]
  },
  {
   "cell_type": "code",
   "execution_count": 51,
   "metadata": {},
   "outputs": [
    {
     "data": {
      "text/plain": [
       "0         1210170648888928\n",
       "1         1210170648888928\n",
       "2         1210170749729057\n",
       "3         1210170749729057\n",
       "4         1210171152422457\n",
       "                ...       \n",
       "270664    2020102068446994\n",
       "270665    2020102068446994\n",
       "270666    2020102068446994\n",
       "270667    2020102068459766\n",
       "270668    2020102068459766\n",
       "Name: accessionNumber, Length: 270669, dtype: object"
      ]
     },
     "execution_count": 51,
     "metadata": {},
     "output_type": "execute_result"
    }
   ],
   "source": [
    "df['accessionNumber']"
   ]
  },
  {
   "cell_type": "code",
   "execution_count": 52,
   "metadata": {},
   "outputs": [
    {
     "data": {
      "text/plain": [
       "0          5134745420220824.0\n",
       "1          5134745420220824.0\n",
       "2          5134745420220824.0\n",
       "3          5134745420220824.0\n",
       "4          5074099620220729.0\n",
       "                  ...        \n",
       "4492678      1232306320210207\n",
       "4492679      1232306320210207\n",
       "4492680      1232306320210207\n",
       "4492681      1232306320210207\n",
       "4492682      1232306320210207\n",
       "Name: accessionNumber, Length: 4492683, dtype: object"
      ]
     },
     "execution_count": 52,
     "metadata": {},
     "output_type": "execute_result"
    }
   ],
   "source": [
    "cloud_df['accessionNumber']"
   ]
  },
  {
   "cell_type": "code",
   "execution_count": 50,
   "metadata": {},
   "outputs": [
    {
     "data": {
      "text/plain": [
       "0         2\n",
       "1         3\n",
       "2         2\n",
       "3         3\n",
       "4         3\n",
       "         ..\n",
       "270664    4\n",
       "270665    5\n",
       "270666    6\n",
       "270667    8\n",
       "270668    9\n",
       "Name: seriesNumber, Length: 270669, dtype: int64"
      ]
     },
     "execution_count": 50,
     "metadata": {},
     "output_type": "execute_result"
    }
   ],
   "source": [
    "df['seriesNumber']"
   ]
  },
  {
   "cell_type": "code",
   "execution_count": 49,
   "metadata": {},
   "outputs": [
    {
     "data": {
      "text/plain": [
       "1         933065\n",
       "2         716565\n",
       "3         477606\n",
       "4         340299\n",
       "5         287068\n",
       "           ...  \n",
       "20039          1\n",
       "900001         1\n",
       "900000         1\n",
       "8500           1\n",
       "8504           1\n",
       "Name: seriesNumber, Length: 972, dtype: int64"
      ]
     },
     "execution_count": 49,
     "metadata": {},
     "output_type": "execute_result"
    }
   ],
   "source": [
    "cloud_df['seriesNumber'].value_counts()"
   ]
  },
  {
   "cell_type": "code",
   "execution_count": 47,
   "metadata": {},
   "outputs": [
    {
     "data": {
      "text/plain": [
       "1318814790      921795\n",
       "2619900042      782156\n",
       "3319800011      728800\n",
       "1310514836      567347\n",
       "2719900249      505332\n",
       "1310415067      476650\n",
       "4019819897      283055\n",
       "3618010015       97852\n",
       "3818010047       76793\n",
       "118010016        48824\n",
       "3818010047.0      2503\n",
       "3319800011.0      1463\n",
       "1310514836.0        94\n",
       "########            13\n",
       "nan                  6\n",
       "Name: institutionName, dtype: int64"
      ]
     },
     "execution_count": 47,
     "metadata": {},
     "output_type": "execute_result"
    }
   ],
   "source": [
    "cloud_df['institutionName'].astype(str).value_counts()"
   ]
  },
  {
   "cell_type": "code",
   "execution_count": 48,
   "metadata": {},
   "outputs": [
    {
     "data": {
      "text/plain": [
       "1318814790    69126\n",
       "3319800011    61343\n",
       "2619900042    51661\n",
       "2719900249    29181\n",
       "1310415067    27506\n",
       "1310514836    12562\n",
       "4019819897    11704\n",
       "3818010047     5994\n",
       "3618010015     1592\n",
       "Name: institutionName, dtype: int64"
      ]
     },
     "execution_count": 48,
     "metadata": {},
     "output_type": "execute_result"
    }
   ],
   "source": [
    "df['institutionName'].value_counts()"
   ]
  },
  {
   "cell_type": "code",
   "execution_count": null,
   "metadata": {},
   "outputs": [],
   "source": []
  }
 ],
 "metadata": {
  "kernelspec": {
   "display_name": "base",
   "language": "python",
   "name": "python3"
  },
  "language_info": {
   "codemirror_mode": {
    "name": "ipython",
    "version": 3
   },
   "file_extension": ".py",
   "mimetype": "text/x-python",
   "name": "python",
   "nbconvert_exporter": "python",
   "pygments_lexer": "ipython3",
   "version": "3.9.12"
  },
  "orig_nbformat": 4
 },
 "nbformat": 4,
 "nbformat_minor": 2
}
